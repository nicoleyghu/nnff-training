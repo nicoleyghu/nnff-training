{
 "cells": [
  {
   "cell_type": "markdown",
   "id": "61a06cde",
   "metadata": {},
   "source": [
    "# Training neural network force fields (NNFFs) with AMPtorch\n",
    "\n",
    "\n",
    "Edited by N. Hu\n",
    "\n",
    "Medford Research Group at Georgia Tech\n",
    "\n",
    "08/25/2021\n",
    "\n",
    "This ipython notebook of training NNFFs is based on the BDQM-VIP lecture materials and the sample scripts provided by AMPtorch (`amptorch/example/`) for both conventional Symmetry Functions as finger-printing scheme + Behler-Parrnello atomistic neural network structure (2nd Generation NN), and Gaussian Multi-Pole + SingleNN neural network structure.\n",
    "\n",
    "This paper introduces the basics and the formulation of Gaussian Multi-pole (GMP) descriptors: \n",
    "<https://arxiv.org/abs/2102.02390?utm_source=feedburner&utm_medium=feed&utm_campaign=Feed%253A+arxiv%252FQSXk+%2528ExcitingAds%2521+cs+updates+on+arXiv.org%2529>\n",
    "\n",
    "\n",
    "# Table of contents\n",
    "1. [Training with Symmetry Function and BPNN](#training_bp)\n",
    "2. [Training with GMP and SingleNN](#training_gmp)"
   ]
  },
  {
   "cell_type": "markdown",
   "id": "4d7c79cd",
   "metadata": {},
   "source": [
    "## Training on CuCO with Symmetry Functions + 2nd Gen NNFF <a name=\"training_bp\"></a>\n",
    "\n",
    "### Construct the training dataset\n",
    "\n",
    "As an example, we calculate the potential energy and forces for CuCO chemical system with the EMT calculator implemented in ase. \n",
    "\n",
    "This step should be replaced with training datasets that have information on:\n",
    "1. cell size\n",
    "2. periodic boundary conditions\n",
    "3. atomic positions\n",
    "4. potential energy\n",
    "5. forces, if doing force training"
   ]
  },
  {
   "cell_type": "code",
   "execution_count": 1,
   "id": "f969d39c",
   "metadata": {},
   "outputs": [],
   "source": [
    "%matplotlib inline\n",
    "import matplotlib.pyplot as plt\n",
    "import numpy as np\n",
    "import torch\n",
    "from ase import Atoms\n",
    "import ase.io\n",
    "from ase.calculators.emt import EMT\n",
    "from ase.build import molecule\n",
    "\n",
    "\n",
    "from amptorch.ase_utils import AMPtorch\n",
    "from amptorch.trainer import AtomsTrainer"
   ]
  },
  {
   "cell_type": "code",
   "execution_count": 2,
   "id": "ff93c1f6",
   "metadata": {},
   "outputs": [],
   "source": [
    "# get training images\n",
    "\n",
    "distances = np.linspace(2, 5, 100)\n",
    "images = []\n",
    "for dist in distances:\n",
    "    image = Atoms(\n",
    "        \"CuCO\",\n",
    "        [\n",
    "            (-dist * np.sin(0.65), dist * np.cos(0.65), 0),\n",
    "            (0, 0, 0),\n",
    "            (dist * np.sin(0.65), dist * np.cos(0.65), 0),\n",
    "        ],\n",
    "    )\n",
    "    image.set_cell([10, 10, 10])\n",
    "    image.wrap(pbc=True)\n",
    "    image.set_calculator(EMT())\n",
    "    images.append(image)"
   ]
  },
  {
   "cell_type": "markdown",
   "id": "97fcd871",
   "metadata": {},
   "source": [
    "### Define fingerprinting scheme\n",
    "\n",
    "Here we demonstrate with the conventional Symmetry functions, $G^2$ and $G^4$. "
   ]
  },
  {
   "cell_type": "code",
   "execution_count": 3,
   "id": "7bb36d28",
   "metadata": {},
   "outputs": [],
   "source": [
    "# define parameters for finger-printing scheme, Symmetry Function\n",
    "\n",
    "Gs = {\n",
    "    \"default\": {\n",
    "        \"G2\": {\n",
    "            \"etas\": np.logspace(np.log10(0.05), np.log10(5.0), num=4),\n",
    "            \"rs_s\": [0],\n",
    "        },\n",
    "        \"G4\": {\"etas\": [0.005], \"zetas\": [1.0, 4.0], \"gammas\": [1.0, -1.0]},\n",
    "        \"cutoff\": 6,\n",
    "    },\n",
    "}"
   ]
  },
  {
   "cell_type": "markdown",
   "id": "25f097ba",
   "metadata": {},
   "source": [
    "### Define the configuration for trainer object\n",
    "\n",
    "Detailed introductions and other specifications supported in trainer object can be found here under Section Usage/Configs: \n",
    "<https://github.com/ulissigroup/amptorch/tree/MCSH_paper1_lmdb>"
   ]
  },
  {
   "cell_type": "code",
   "execution_count": 4,
   "id": "a43d0ffc",
   "metadata": {},
   "outputs": [],
   "source": [
    "config = {\n",
    "    \"model\": {\n",
    "        \"get_forces\": True,\n",
    "        \"num_layers\": 3,\n",
    "        \"num_nodes\": 5,\n",
    "        \"batchnorm\": True,\n",
    "    },\n",
    "    \"optim\": {\n",
    "        \"force_coefficient\": 0.04,\n",
    "        \"lr\": 1e-3,\n",
    "        \"batch_size\": 32,\n",
    "        \"epochs\": 10,\n",
    "        \"loss\": \"mse\",\n",
    "        \"metric\": \"mae\",\n",
    "        \"gpus\": 0,\n",
    "    },\n",
    "    \"dataset\": {\n",
    "        \"raw_data\": images,\n",
    "        \"fp_params\": Gs,\n",
    "        \"save_fps\": True,\n",
    "        \"scaling\": {\"type\": \"normalize\", \"range\": (0, 1)},\n",
    "        \"val_split\": 0,\n",
    "    },\n",
    "    \"cmd\": {\n",
    "        \"debug\": False,\n",
    "        \"run_dir\": \"./\",\n",
    "        \"seed\": 1,\n",
    "        \"identifier\": \"test\",\n",
    "        \"verbose\": True,\n",
    "        # Weights and Biases used for logging - an account(free) is required\n",
    "        \"logger\": False,\n",
    "    },\n",
    "}"
   ]
  },
  {
   "cell_type": "markdown",
   "id": "571ed6d5",
   "metadata": {},
   "source": [
    "### Hit go and train"
   ]
  },
  {
   "cell_type": "code",
   "execution_count": 5,
   "id": "a8e4c757",
   "metadata": {},
   "outputs": [
    {
     "name": "stdout",
     "output_type": "stream",
     "text": [
      "Results saved to ./checkpoints/2021-08-25-16-01-49-test\n"
     ]
    },
    {
     "data": {
      "application/vnd.jupyter.widget-view+json": {
       "model_id": "4084a38f950043cda8842fcaebecc388",
       "version_major": 2,
       "version_minor": 0
      },
      "text/plain": [
       "HBox(children=(FloatProgress(value=0.0, description='converting ASE atoms collection to Data objects', style=P…"
      ]
     },
     "metadata": {},
     "output_type": "display_data"
    },
    {
     "name": "stdout",
     "output_type": "stream",
     "text": [
      "\n"
     ]
    },
    {
     "data": {
      "application/vnd.jupyter.widget-view+json": {
       "model_id": "5723483c444b4225ad9a150785c23b0d",
       "version_major": 2,
       "version_minor": 0
      },
      "text/plain": [
       "HBox(children=(FloatProgress(value=0.0, description='Scaling Feature data (normalize)', style=ProgressStyle(de…"
      ]
     },
     "metadata": {},
     "output_type": "display_data"
    },
    {
     "name": "stdout",
     "output_type": "stream",
     "text": [
      "\n"
     ]
    },
    {
     "data": {
      "application/vnd.jupyter.widget-view+json": {
       "model_id": "5e1192cd2eec4abb8baa399e0889d140",
       "version_major": 2,
       "version_minor": 0
      },
      "text/plain": [
       "HBox(children=(FloatProgress(value=0.0, description='Scaling Target data', style=ProgressStyle(description_wid…"
      ]
     },
     "metadata": {},
     "output_type": "display_data"
    },
    {
     "name": "stdout",
     "output_type": "stream",
     "text": [
      "\n",
      "Loading dataset: 100 images\n",
      "Loading model: 1023 parameters\n",
      "Loading skorch trainer\n",
      "  epoch    train_energy_mae    train_forces_mae    train_loss    cp     dur\n",
      "-------  ------------------  ------------------  ------------  ----  ------\n",
      "      1              \u001b[36m0.6699\u001b[0m              \u001b[32m0.3765\u001b[0m        \u001b[35m0.4504\u001b[0m     +  0.0512\n",
      "      2              \u001b[36m0.5186\u001b[0m              \u001b[32m0.3440\u001b[0m        \u001b[35m0.4043\u001b[0m     +  0.0392\n",
      "      3              \u001b[36m0.4314\u001b[0m              \u001b[32m0.3344\u001b[0m        \u001b[35m0.3154\u001b[0m     +  0.0378\n",
      "      4              \u001b[36m0.4169\u001b[0m              \u001b[32m0.3338\u001b[0m        0.3565     +  0.0496\n"
     ]
    },
    {
     "name": "stderr",
     "output_type": "stream",
     "text": [
      "<string>:6: VisibleDeprecationWarning: Creating an ndarray from ragged nested sequences (which is a list-or-tuple of lists-or-tuples-or ndarrays with different lengths or shapes) is deprecated. If you meant to do this, you must specify 'dtype=object' when creating the ndarray\n"
     ]
    },
    {
     "name": "stdout",
     "output_type": "stream",
     "text": [
      "      5              \u001b[36m0.3966\u001b[0m              0.3392        \u001b[35m0.2084\u001b[0m     +  0.0381\n",
      "      6              \u001b[36m0.3887\u001b[0m              0.3378        0.4124     +  0.0393\n",
      "      7              \u001b[36m0.3740\u001b[0m              0.3360        \u001b[35m0.1773\u001b[0m     +  0.0379\n",
      "      8              \u001b[36m0.3564\u001b[0m              \u001b[32m0.3336\u001b[0m        0.2445     +  0.0496\n",
      "      9              \u001b[36m0.3358\u001b[0m              0.3375        \u001b[35m0.1515\u001b[0m     +  0.0495\n",
      "     10              \u001b[36m0.2942\u001b[0m              0.3359        0.2218     +  0.0380\n",
      "Training completed in 0.5143406391143799s\n"
     ]
    },
    {
     "data": {
      "text/plain": [
       "0.5143406391143799"
      ]
     },
     "execution_count": 5,
     "metadata": {},
     "output_type": "execute_result"
    }
   ],
   "source": [
    "torch.set_num_threads(1)\n",
    "trainer = AtomsTrainer(config)\n",
    "trainer.train()"
   ]
  },
  {
   "cell_type": "markdown",
   "id": "4b3dd396",
   "metadata": {},
   "source": [
    "### Use the neural network as an ase calculator to make predictions"
   ]
  },
  {
   "cell_type": "code",
   "execution_count": 6,
   "id": "8ed357ad",
   "metadata": {},
   "outputs": [
    {
     "name": "stdout",
     "output_type": "stream",
     "text": [
      "Energy MSE: 0.41248591114113947\n",
      "Energy MAE: 0.3939685106821985\n"
     ]
    },
    {
     "data": {
      "text/plain": [
       "10.50893783569336"
      ]
     },
     "execution_count": 6,
     "metadata": {},
     "output_type": "execute_result"
    }
   ],
   "source": [
    "predictions = trainer.predict(images)\n",
    "\n",
    "# assess errors\n",
    "\n",
    "true_energies = np.array([image.get_potential_energy() for image in images])\n",
    "pred_energies = np.array(predictions[\"energy\"])\n",
    "\n",
    "print(\"Energy MSE:\", np.mean((true_energies - pred_energies) ** 2))\n",
    "print(\"Energy MAE:\", np.mean(np.abs(true_energies - pred_energies)))\n",
    "\n",
    "images[0].set_calculator(AMPtorch(trainer))\n",
    "images[0].get_potential_energy()"
   ]
  },
  {
   "cell_type": "markdown",
   "id": "177d7048",
   "metadata": {},
   "source": [
    "## Training on 2D water dataset with GMP + SingleNN <a name=\"training_gmp\"></a>"
   ]
  },
  {
   "cell_type": "markdown",
   "id": "5f6c644b",
   "metadata": {},
   "source": [
    "### Construct the training dataset\n",
    "\n",
    "As an example of the training dataset, we calculate the potential energy and forces for 2-D single water potential energy surface. This dataset is calculated by Quantem Espresso (xc, PBE. kpts, (1,1,1). Planewave, 500.) One O-H bond length is fixed, and the other O-H length and the H-O-H bond angle are allowed to vary. \n",
    "\n",
    "Required information in the training datasets contains:\n",
    "1. cell size\n",
    "2. periodic boundary conditions\n",
    "3. atomic positions\n",
    "4. potential energy\n",
    "5. forces, if doing force training"
   ]
  },
  {
   "cell_type": "code",
   "execution_count": 7,
   "id": "c84fdcfe",
   "metadata": {},
   "outputs": [
    {
     "data": {
      "text/plain": [
       "101"
      ]
     },
     "execution_count": 7,
     "metadata": {},
     "output_type": "execute_result"
    }
   ],
   "source": [
    "# get training images by reading trajectory files\n",
    "\n",
    "# read all images from the trajectory\n",
    "# training = ase.io.read(\"./data/single_water_2D.traj\", index=\":\")\n",
    "\n",
    "# read every 10th image from the trajectory\n",
    "training = ase.io.read(\"./data/single_water_2D.traj\", index=\"::10\")\n",
    "\n",
    "# print the length of the image\n",
    "len(training)"
   ]
  },
  {
   "cell_type": "code",
   "execution_count": 8,
   "id": "94a9cdfb",
   "metadata": {},
   "outputs": [
    {
     "name": "stdout",
     "output_type": "stream",
     "text": [
      "Cell([10.0, 10.0, 10.0])\n",
      "[ True  True  True]\n",
      "[[5.         5.         5.2981545 ]\n",
      " [5.         5.763239   4.7018455 ]\n",
      " [5.87240588 3.09291855 4.26505605]]\n",
      "-593.3815601078402\n",
      "[[ 0.          0.          0.        ]\n",
      " [ 0.          0.          0.        ]\n",
      " [-0.6816002   1.67015579  0.67090199]]\n",
      "Atoms(symbols='OH2', pbc=True, cell=[10.0, 10.0, 10.0], momenta=..., constraint=FixAtoms(indices=[0, 1]), calculator=SinglePointCalculator(...))\n"
     ]
    }
   ],
   "source": [
    "# check the information\n",
    "\n",
    "# cell size\n",
    "print(training[0].get_cell())\n",
    "\n",
    "# periodic boundary condition\n",
    "print(training[0].get_pbc())\n",
    "\n",
    "# atomic positions\n",
    "print(training[0].get_positions())\n",
    "\n",
    "# system potential energy\n",
    "print(training[0].get_potential_energy())\n",
    "\n",
    "# forces\n",
    "print(training[0].get_forces())\n",
    "\n",
    "# ase.Atoms object\n",
    "print(training[0])"
   ]
  },
  {
   "cell_type": "markdown",
   "id": "6a264f3d",
   "metadata": {},
   "source": [
    "### Define fingerprinting scheme\n",
    "\n",
    "Here we demonstrate with the GMP fingerprinting scheme. It requires the fitted pseduo-potentials of every elements. Access to the fitted pseduo-potentials:\n",
    "<https://github.com/ulissigroup/amptorch/tree/MCSH_paper1_lmdb/examples/GMP/valence_gaussians>\n",
    "\n",
    "Like G2 and G4 symmetry functions, GMP uses $\\sigma$'s in the radial coordinates and MCSH groups and orders in the angular coordinates."
   ]
  },
  {
   "cell_type": "code",
   "execution_count": 9,
   "id": "f5045942",
   "metadata": {},
   "outputs": [],
   "source": [
    "sigmas = [0.2, 0.69, 1.1, 1.66, 2.66]\n",
    "\n",
    "MCSHs = {\n",
    "    \"MCSHs\": {\n",
    "        \"0\": {\"groups\": [1], \"sigmas\": sigmas},\n",
    "        \"1\": {\"groups\": [1], \"sigmas\": sigmas},\n",
    "        \"2\": {\"groups\": [1, 2], \"sigmas\": sigmas},\n",
    "        \"3\": {\"groups\": [1, 2, 3], \"sigmas\": sigmas},\n",
    "        # \"4\": {\"groups\": [1, 2, 3, 4], \"sigmas\": sigmas},\n",
    "        # \"5\": {\"groups\": [1, 2, 3, 4, 5], \"sigmas\": sigmas},\n",
    "        # \"6\": {\"groups\": [1, 2, 3, 4, 5, 6, 7], \"sigmas\": sigmas},\n",
    "    },\n",
    "    \"atom_gaussians\": {\n",
    "        \"H\": \"./valence_gaussians/H_pseudodensity_2.g\",\n",
    "        \"O\": \"./valence_gaussians/O_pseudodensity_4.g\",\n",
    "    },\n",
    "    \"cutoff\": 8,\n",
    "}\n",
    "\n",
    "elements = [\"H\", \"O\"]"
   ]
  },
  {
   "cell_type": "markdown",
   "id": "fb9ba2b9",
   "metadata": {},
   "source": [
    "### Define the configuration for trainer object\n",
    "\n",
    "Detailed introductions and other specifications supported in trainer object can be found here under Section Usage/Configs: \n",
    "<https://github.com/ulissigroup/amptorch/tree/MCSH_paper1_lmdb>"
   ]
  },
  {
   "cell_type": "code",
   "execution_count": 10,
   "id": "1a9996dd",
   "metadata": {},
   "outputs": [],
   "source": [
    "config = {\n",
    "    \"model\": {\n",
    "        \"name\":\"singlenn\",\n",
    "        \"get_forces\": True,\n",
    "        \"num_layers\": 3,\n",
    "        \"num_nodes\": 5,\n",
    "        \"batchnorm\": True,\n",
    "    },\n",
    "    \"optim\": {\n",
    "        \"force_coefficient\": 0.04,\n",
    "        \"lr\": 1e-3,\n",
    "        \"batch_size\": 8,\n",
    "        \"epochs\": 100,\n",
    "        \"loss\": \"mse\",\n",
    "        \"metric\": \"mae\",\n",
    "    },\n",
    "    \"dataset\": {\n",
    "        \"raw_data\": training,\n",
    "        \"fp_scheme\": \"gmp\",\n",
    "        \"fp_params\": MCSHs,\n",
    "        \"elements\": elements,\n",
    "        \"save_fps\": True,\n",
    "        \"scaling\": {\"type\": \"normalize\", \"range\": (0, 1)},\n",
    "        \"val_split\": 0,\n",
    "    },\n",
    "    \"cmd\": {\n",
    "        \"debug\": False,\n",
    "        \"run_dir\": \"./\",\n",
    "        \"seed\": 1,\n",
    "        \"identifier\": \"test\",\n",
    "        \"verbose\": True,\n",
    "        # Weights and Biases used for logging - an account(free) is required\n",
    "        \"logger\": False,\n",
    "    },\n",
    "}"
   ]
  },
  {
   "cell_type": "markdown",
   "id": "3f40c4e7",
   "metadata": {},
   "source": [
    "### Hit go and train"
   ]
  },
  {
   "cell_type": "code",
   "execution_count": 11,
   "id": "2a5e0533",
   "metadata": {},
   "outputs": [
    {
     "name": "stdout",
     "output_type": "stream",
     "text": [
      "Results saved to ./checkpoints/2021-08-25-16-01-53-test\n"
     ]
    },
    {
     "data": {
      "application/vnd.jupyter.widget-view+json": {
       "model_id": "d33fa4edd69043c99c8c1d4f4502669d",
       "version_major": 2,
       "version_minor": 0
      },
      "text/plain": [
       "HBox(children=(FloatProgress(value=0.0, description='converting ASE atoms collection to Data objects', max=101…"
      ]
     },
     "metadata": {},
     "output_type": "display_data"
    },
    {
     "name": "stdout",
     "output_type": "stream",
     "text": [
      "\n"
     ]
    },
    {
     "data": {
      "application/vnd.jupyter.widget-view+json": {
       "model_id": "9ba2219d67584632ac1048edf8f2bb64",
       "version_major": 2,
       "version_minor": 0
      },
      "text/plain": [
       "HBox(children=(FloatProgress(value=0.0, description='Scaling Feature data (normalize)', max=101.0, style=Progr…"
      ]
     },
     "metadata": {},
     "output_type": "display_data"
    },
    {
     "name": "stdout",
     "output_type": "stream",
     "text": [
      "\n"
     ]
    },
    {
     "data": {
      "application/vnd.jupyter.widget-view+json": {
       "model_id": "fc588fc91e1f4af7ad94cc63fd252ffa",
       "version_major": 2,
       "version_minor": 0
      },
      "text/plain": [
       "HBox(children=(FloatProgress(value=0.0, description='Scaling Target data', max=101.0, style=ProgressStyle(desc…"
      ]
     },
     "metadata": {},
     "output_type": "display_data"
    },
    {
     "name": "stdout",
     "output_type": "stream",
     "text": [
      "\n",
      "Loading dataset: 101 images\n",
      "Loading model: 236 parameters\n",
      "Loading skorch trainer\n",
      "  epoch    train_energy_mae    train_forces_mae    train_loss    cp     dur\n",
      "-------  ------------------  ------------------  ------------  ----  ------\n",
      "      1              \u001b[36m1.0118\u001b[0m              \u001b[32m1.1103\u001b[0m        \u001b[35m0.9195\u001b[0m     +  0.0603\n",
      "      2              \u001b[36m0.8604\u001b[0m              \u001b[32m0.8896\u001b[0m        \u001b[35m0.6673\u001b[0m     +  0.0581\n",
      "      3              \u001b[36m0.7323\u001b[0m              \u001b[32m0.7510\u001b[0m        \u001b[35m0.4950\u001b[0m     +  0.0576\n",
      "      4              \u001b[36m0.6032\u001b[0m              0.8569        \u001b[35m0.3794\u001b[0m     +  0.0582\n",
      "      5              \u001b[36m0.5157\u001b[0m              0.7930        \u001b[35m0.3109\u001b[0m     +  0.0577\n",
      "      6              \u001b[36m0.4258\u001b[0m              0.8564        \u001b[35m0.2509\u001b[0m     +  0.0584\n",
      "      7              \u001b[36m0.3952\u001b[0m              0.8701        \u001b[35m0.2507\u001b[0m     +  0.0581\n",
      "      8              \u001b[36m0.3417\u001b[0m              0.8318        \u001b[35m0.1919\u001b[0m     +  0.0576\n",
      "      9              \u001b[36m0.3032\u001b[0m              0.9061        \u001b[35m0.1791\u001b[0m     +  0.0582\n",
      "     10              0.3350              0.8214        0.1963        0.0585\n",
      "     11              \u001b[36m0.2864\u001b[0m              0.7779        \u001b[35m0.1469\u001b[0m     +  0.0586\n",
      "     12              \u001b[36m0.2744\u001b[0m              \u001b[32m0.6915\u001b[0m        \u001b[35m0.1298\u001b[0m     +  0.0581\n",
      "     13              0.2902              \u001b[32m0.6792\u001b[0m        0.1439        0.0585\n",
      "     14              \u001b[36m0.2724\u001b[0m              \u001b[32m0.6572\u001b[0m        \u001b[35m0.1277\u001b[0m     +  0.0589\n",
      "     15              \u001b[36m0.2411\u001b[0m              0.6871        \u001b[35m0.1017\u001b[0m     +  0.0585\n",
      "     16              0.2555              \u001b[32m0.6316\u001b[0m        0.1061        0.0590\n",
      "     17              \u001b[36m0.2310\u001b[0m              \u001b[32m0.6061\u001b[0m        \u001b[35m0.0928\u001b[0m     +  0.0588\n",
      "     18              \u001b[36m0.2067\u001b[0m              \u001b[32m0.5620\u001b[0m        \u001b[35m0.0770\u001b[0m     +  0.0584\n",
      "     19              0.2111              0.5860        0.0784        0.0588\n",
      "     20              \u001b[36m0.2029\u001b[0m              \u001b[32m0.5537\u001b[0m        \u001b[35m0.0768\u001b[0m     +  0.0598\n",
      "     21              0.2150              \u001b[32m0.5346\u001b[0m        \u001b[35m0.0742\u001b[0m        0.0592\n",
      "     22              \u001b[36m0.1984\u001b[0m              0.5428        \u001b[35m0.0730\u001b[0m     +  0.0586\n",
      "     23              0.2020              0.5413        0.1002        0.0590\n",
      "     24              \u001b[36m0.1984\u001b[0m              \u001b[32m0.5070\u001b[0m        \u001b[35m0.0675\u001b[0m     +  0.0584\n",
      "     25              \u001b[36m0.1957\u001b[0m              \u001b[32m0.5041\u001b[0m        \u001b[35m0.0663\u001b[0m     +  0.0583\n",
      "     26              0.2053              0.5060        0.1027        0.0588\n",
      "     27              \u001b[36m0.1950\u001b[0m              0.5622        0.0891     +  0.0583\n",
      "     28              0.1996              0.5072        0.0696        0.0590\n",
      "     29              \u001b[36m0.1933\u001b[0m              0.5170        \u001b[35m0.0624\u001b[0m     +  0.0584\n",
      "     30              0.1974              0.5484        0.0841        0.0577\n",
      "     31              \u001b[36m0.1747\u001b[0m              \u001b[32m0.4862\u001b[0m        0.0759     +  0.0587\n",
      "     32              0.1805              0.4946        0.0829        0.0590\n",
      "     33              0.1877              \u001b[32m0.4790\u001b[0m        0.0835        0.0584\n",
      "     34              \u001b[36m0.1721\u001b[0m              0.5166        \u001b[35m0.0522\u001b[0m     +  0.0585\n",
      "     35              \u001b[36m0.1585\u001b[0m              0.4956        \u001b[35m0.0480\u001b[0m     +  0.0589\n",
      "     36              0.2084              0.5184        0.0844        0.0590\n",
      "     37              0.1804              \u001b[32m0.4612\u001b[0m        0.0607        0.0585\n",
      "     38              0.1661              0.4815        \u001b[35m0.0459\u001b[0m        0.0583\n",
      "     39              0.1875              \u001b[32m0.4524\u001b[0m        0.0823        0.0587\n",
      "     40              0.1737              0.4641        0.0711        0.0586\n",
      "     41              0.1836              0.4901        0.0690        0.0591\n",
      "     42              \u001b[36m0.1585\u001b[0m              \u001b[32m0.4410\u001b[0m        \u001b[35m0.0414\u001b[0m     +  0.0587\n",
      "     43              \u001b[36m0.1571\u001b[0m              \u001b[32m0.4233\u001b[0m        \u001b[35m0.0388\u001b[0m     +  0.0585\n",
      "     44              0.1803              \u001b[32m0.4082\u001b[0m        0.0710        0.0587\n",
      "     45              0.1609              0.4237        0.0604        0.0582\n",
      "     46              0.1629              0.4955        0.0515        0.0588\n",
      "     47              0.1640              0.4212        0.0547        0.0588\n",
      "     48              \u001b[36m0.1471\u001b[0m              0.4084        \u001b[35m0.0363\u001b[0m     +  0.0587\n",
      "     49              0.1598              0.4094        0.0669        0.0587\n",
      "     50              \u001b[36m0.1369\u001b[0m              0.4273        0.0371     +  0.0586\n",
      "     51              0.1427              \u001b[32m0.4022\u001b[0m        0.0509        0.0591\n",
      "     52              \u001b[36m0.1262\u001b[0m              \u001b[32m0.3846\u001b[0m        \u001b[35m0.0298\u001b[0m     +  0.0587\n",
      "     53              0.1287              0.4164        0.0328        0.0592\n",
      "     54              0.1528              0.4022        0.0606        0.0586\n",
      "     55              0.1324              \u001b[32m0.3542\u001b[0m        0.0306        0.0587\n",
      "     56              0.1467              0.4259        0.0405        0.0588\n",
      "     57              0.1338              0.4138        0.0316        0.0587\n",
      "     58              0.1264              0.3735        \u001b[35m0.0289\u001b[0m        0.0589\n",
      "     59              0.1408              0.4392        0.0331        0.0587\n",
      "     60              0.1269              \u001b[32m0.3447\u001b[0m        0.0391        0.0586\n",
      "     61              \u001b[36m0.1208\u001b[0m              0.3695        \u001b[35m0.0289\u001b[0m     +  0.0593\n",
      "     62              0.1312              0.3950        0.0302        0.0583\n",
      "     63              0.1567              0.3530        0.0580        0.0582\n",
      "     64              0.1319              0.3654        0.0296        0.0572\n",
      "     65              0.1351              0.3648        0.0438        0.0587\n",
      "     66              0.1226              0.3858        0.0376        0.0581\n",
      "     67              0.1266              0.4001        0.0292        0.0585\n",
      "     68              \u001b[36m0.1178\u001b[0m              0.3486        \u001b[35m0.0258\u001b[0m     +  0.0576\n",
      "     69              \u001b[36m0.1162\u001b[0m              0.3469        \u001b[35m0.0235\u001b[0m     +  0.0586\n",
      "     70              0.1168              0.3604        0.0268        0.0572\n",
      "     71              0.1299              0.3709        0.0371        0.0582\n",
      "     72              0.1163              0.3658        0.0241        0.0585\n",
      "     73              0.1273              0.3947        0.0411        0.0582\n",
      "     74              0.1204              0.3580        0.0266        0.0588\n",
      "     75              0.1303              0.3951        0.0446        0.0578\n",
      "     76              0.1512              0.3879        0.0603        0.0594\n",
      "     77              0.1393              0.4124        0.0410        0.0577\n",
      "     78              \u001b[36m0.1149\u001b[0m              0.3930        0.0238     +  0.0570\n",
      "     79              0.1163              0.3752        0.0260        0.0579\n",
      "     80              \u001b[36m0.1050\u001b[0m              \u001b[32m0.3363\u001b[0m        0.0236     +  0.0575\n",
      "     81              0.1239              0.3667        0.0358        0.0574\n",
      "     82              0.1060              \u001b[32m0.3046\u001b[0m        \u001b[35m0.0200\u001b[0m        0.0568\n",
      "     83              \u001b[36m0.1049\u001b[0m              0.3652        0.0214     +  0.0577\n",
      "     84              0.1090              0.3904        0.0274        0.0570\n",
      "     85              0.1147              0.4088        0.0313        0.0574\n",
      "     86              \u001b[36m0.1047\u001b[0m              0.3523        0.0217     +  0.0577\n",
      "     87              0.1335              0.3825        0.0545        0.0571\n",
      "     88              0.1170              0.3745        0.0294        0.0570\n",
      "     89              0.1114              0.3486        0.0222        0.0577\n",
      "     90              \u001b[36m0.0986\u001b[0m              0.3379        0.0263     +  0.0573\n",
      "     91              0.1095              0.3322        0.0230        0.0575\n",
      "     92              0.1221              0.4044        0.0423        0.0587\n",
      "     93              0.1028              0.3652        0.0327        0.0581\n",
      "     94              0.1054              0.3522        0.0207        0.0576\n"
     ]
    },
    {
     "name": "stdout",
     "output_type": "stream",
     "text": [
      "     95              \u001b[36m0.0975\u001b[0m              0.3275        \u001b[35m0.0193\u001b[0m     +  0.0588\n",
      "     96              0.1000              0.3486        0.0280        0.0582\n",
      "     97              0.1105              0.3660        0.0230        0.0576\n",
      "     98              0.1067              0.3404        0.0299        0.0585\n",
      "     99              0.1039              0.3376        \u001b[35m0.0191\u001b[0m        0.0586\n",
      "    100              0.1149              0.3589        0.0286        0.0569\n",
      "Training completed in 6.6894073486328125s\n"
     ]
    },
    {
     "data": {
      "text/plain": [
       "6.6894073486328125"
      ]
     },
     "execution_count": 11,
     "metadata": {},
     "output_type": "execute_result"
    }
   ],
   "source": [
    "torch.set_num_threads(1)\n",
    "trainer = AtomsTrainer(config)\n",
    "trainer.train()"
   ]
  },
  {
   "cell_type": "markdown",
   "id": "89478aaf",
   "metadata": {},
   "source": [
    "### Use the neural network as an ase calculator to make predictions"
   ]
  },
  {
   "cell_type": "code",
   "execution_count": 12,
   "id": "03f44cdc",
   "metadata": {},
   "outputs": [
    {
     "name": "stdout",
     "output_type": "stream",
     "text": [
      "Energy MSE: 0.00715544224881187\n",
      "Energy MAE: 0.06294999506214351\n"
     ]
    },
    {
     "data": {
      "text/plain": [
       "-593.8175048828125"
      ]
     },
     "execution_count": 12,
     "metadata": {},
     "output_type": "execute_result"
    }
   ],
   "source": [
    "predictions = trainer.predict(training)\n",
    "\n",
    "# assess errors\n",
    "\n",
    "true_energies = np.array([image.get_potential_energy() for image in training])\n",
    "pred_energies = np.array(predictions[\"energy\"])\n",
    "\n",
    "print(\"Energy MSE:\", np.mean((true_energies - pred_energies) ** 2))\n",
    "print(\"Energy MAE:\", np.mean(np.abs(true_energies - pred_energies)))\n",
    "\n",
    "training[0].set_calculator(AMPtorch(trainer))\n",
    "training[0].get_potential_energy()"
   ]
  },
  {
   "cell_type": "markdown",
   "id": "d1ee0038",
   "metadata": {},
   "source": [
    "### Use the fitted model to predict the 1D PES for change in O-H bond length"
   ]
  },
  {
   "cell_type": "code",
   "execution_count": 13,
   "id": "31eae4fa",
   "metadata": {},
   "outputs": [],
   "source": [
    "# set up images with one changing bond length\n",
    "distances = np.linspace(0.8, 1.2, 100)\n",
    "images = []\n",
    "for dist in distances:\n",
    "    image = molecule(\"H2O\", vacuum=10.0)\n",
    "    image.set_cell([10, 10, 10])\n",
    "    image.set_pbc([1, 1, 1])\n",
    "\n",
    "    # change bond length\n",
    "    image.set_distance(0, 2, dist)\n",
    "    images.append(image)\n",
    "\n",
    "predictions = trainer.predict(images)"
   ]
  },
  {
   "cell_type": "code",
   "execution_count": 14,
   "id": "651053cd",
   "metadata": {},
   "outputs": [
    {
     "data": {
      "text/plain": [
       "Text(0, 0.5, 'potential energy [eV]')"
      ]
     },
     "execution_count": 14,
     "metadata": {},
     "output_type": "execute_result"
    },
    {
     "data": {
      "image/png": "[encoded data removed]",
      "text/plain": [
       "<Figure size 432x288 with 1 Axes>"
      ]
     },
     "metadata": {
      "needs_background": "light"
     },
     "output_type": "display_data"
    }
   ],
   "source": [
    "plt.plot(distances, predictions[\"energy\"], \".\")\n",
    "plt.xlabel(\"O-H bond length [A]\")\n",
    "plt.ylabel(\"potential energy [eV]\")"
   ]
  }
 ],
 "metadata": {
  "kernelspec": {
   "display_name": "amptorch_MCSH",
   "language": "python",
   "name": "amptorch_mcsh"
  },
  "language_info": {
   "codemirror_mode": {
    "name": "ipython",
    "version": 3
   },
   "file_extension": ".py",
   "mimetype": "text/x-python",
   "name": "python",
   "nbconvert_exporter": "python",
   "pygments_lexer": "ipython3",
   "version": "3.6.13"
  }
 },
 "nbformat": 4,
 "nbformat_minor": 5
}
