{
 "cells": [
  {
   "cell_type": "markdown",
   "id": "61a06cde",
   "metadata": {},
   "source": [
    "# Training neural network force fields (NNFFs) with AMPtorch\n",
    "\n",
    "\n",
    "Edited by N. Hu\n",
    "\n",
    "Medford Research Group at Georgia Tech\n",
    "\n",
    "08/26/2021\n",
    "\n",
    "This ipython notebook of training NNFFs is based on the BDQM-VIP lecture materials and the sample scripts provided by AMPtorch (`amptorch/example/`) for both conventional Symmetry Functions as finger-printing scheme + Behler-Parrnello atomistic neural network structure (2nd Generation NN), and Gaussian Multi-Pole + SingleNN neural network structure.\n",
    "\n",
    "This paper introduces the basics and the formulation of Gaussian Multi-pole (GMP) descriptors: \n",
    "<https://arxiv.org/abs/2102.02390?utm_source=feedburner&utm_medium=feed&utm_campaign=Feed%253A+arxiv%252FQSXk+%2528ExcitingAds%2521+cs+updates+on+arXiv.org%2529>\n",
    "\n",
    "\n",
    "# Table of contents\n",
    "1. [Training with Symmetry Function and BPNN](#training_bp)\n",
    "2. [Training with GMP and SingleNN](#training_gmp)"
   ]
  },
  {
   "cell_type": "markdown",
   "id": "4d7c79cd",
   "metadata": {},
   "source": [
    "## Training on CuCO with Symmetry Functions + 2nd Gen NNFF <a name=\"training_bp\"></a>\n",
    "\n",
    "### Construct the training dataset\n",
    "\n",
    "As an example, we calculate the potential energy and forces for CuCO chemical system with the EMT calculator implemented in ase. \n",
    "\n",
    "This step should be replaced with training datasets that have information on:\n",
    "1. cell size\n",
    "2. periodic boundary conditions\n",
    "3. atomic positions\n",
    "4. potential energy\n",
    "5. forces, if doing force training"
   ]
  },
  {
   "cell_type": "code",
   "execution_count": 1,
   "id": "f969d39c",
   "metadata": {},
   "outputs": [],
   "source": [
    "%matplotlib inline\n",
    "import matplotlib.pyplot as plt\n",
    "import numpy as np\n",
    "import torch\n",
    "from ase import Atoms\n",
    "import ase.io\n",
    "from ase.calculators.emt import EMT\n",
    "from ase.build import molecule\n",
    "\n",
    "\n",
    "from amptorch.ase_utils import AMPtorch\n",
    "from amptorch.trainer import AtomsTrainer"
   ]
  },
  {
   "cell_type": "code",
   "execution_count": 2,
   "id": "ff93c1f6",
   "metadata": {},
   "outputs": [],
   "source": [
    "# get training images\n",
    "\n",
    "distances = np.linspace(2, 5, 100)\n",
    "images = []\n",
    "for dist in distances:\n",
    "    image = Atoms(\n",
    "        \"CuCO\",\n",
    "        [\n",
    "            (-dist * np.sin(0.65), dist * np.cos(0.65), 0),\n",
    "            (0, 0, 0),\n",
    "            (dist * np.sin(0.65), dist * np.cos(0.65), 0),\n",
    "        ],\n",
    "    )\n",
    "    image.set_cell([10, 10, 10])\n",
    "    image.wrap(pbc=True)\n",
    "    image.set_calculator(EMT())\n",
    "    images.append(image)"
   ]
  },
  {
   "cell_type": "markdown",
   "id": "97fcd871",
   "metadata": {},
   "source": [
    "### Define fingerprinting scheme\n",
    "\n",
    "Here we demonstrate with the conventional Symmetry functions, $G^2$ and $G^4$. "
   ]
  },
  {
   "cell_type": "code",
   "execution_count": 3,
   "id": "7bb36d28",
   "metadata": {},
   "outputs": [],
   "source": [
    "# define parameters for finger-printing scheme, Symmetry Function\n",
    "\n",
    "Gs = {\n",
    "    \"default\": {\n",
    "        \"G2\": {\n",
    "            \"etas\": np.logspace(np.log10(0.05), np.log10(5.0), num=4),\n",
    "            \"rs_s\": [0],\n",
    "        },\n",
    "        \"G4\": {\"etas\": [0.005], \"zetas\": [1.0, 4.0], \"gammas\": [1.0, -1.0]},\n",
    "        \"cutoff\": 6,\n",
    "    },\n",
    "}"
   ]
  },
  {
   "cell_type": "markdown",
   "id": "25f097ba",
   "metadata": {},
   "source": [
    "### Define the configuration for trainer object\n",
    "\n",
    "Detailed introductions and other specifications supported in trainer object can be found here under Section Usage/Configs: \n",
    "<https://github.com/ulissigroup/amptorch/tree/MCSH_paper1_lmdb>"
   ]
  },
  {
   "cell_type": "code",
   "execution_count": 4,
   "id": "a43d0ffc",
   "metadata": {},
   "outputs": [],
   "source": [
    "config = {\n",
    "    \"model\": {\n",
    "        \"get_forces\": True,\n",
    "        \"num_layers\": 3,\n",
    "        \"num_nodes\": 5,\n",
    "        \"batchnorm\": True,\n",
    "    },\n",
    "    \"optim\": {\n",
    "        \"force_coefficient\": 0.04,\n",
    "        \"lr\": 1e-3,\n",
    "        \"batch_size\": 32,\n",
    "        \"epochs\": 10,\n",
    "        \"loss\": \"mse\",\n",
    "        \"metric\": \"mae\",\n",
    "        \"gpus\": 0,\n",
    "    },\n",
    "    \"dataset\": {\n",
    "        \"raw_data\": images,\n",
    "        \"fp_params\": Gs,\n",
    "        \"save_fps\": True,\n",
    "        \"scaling\": {\"type\": \"normalize\", \"range\": (0, 1)},\n",
    "        \"val_split\": 0,\n",
    "    },\n",
    "    \"cmd\": {\n",
    "        \"debug\": False,\n",
    "        \"run_dir\": \"./\",\n",
    "        \"seed\": 1,\n",
    "        \"identifier\": \"test\",\n",
    "        \"verbose\": True,\n",
    "        # Weights and Biases used for logging - an account(free) is required\n",
    "        \"logger\": False,\n",
    "    },\n",
    "}"
   ]
  },
  {
   "cell_type": "markdown",
   "id": "571ed6d5",
   "metadata": {},
   "source": [
    "### Hit go and train"
   ]
  },
  {
   "cell_type": "code",
   "execution_count": 5,
   "id": "a8e4c757",
   "metadata": {},
   "outputs": [
    {
     "name": "stdout",
     "output_type": "stream",
     "text": [
      "Results saved to ./checkpoints/2021-08-26-16-52-57-test\n"
     ]
    },
    {
     "data": {
      "application/vnd.jupyter.widget-view+json": {
       "model_id": "0484343e4a9747199b5bad52d56120d5",
       "version_major": 2,
       "version_minor": 0
      },
      "text/plain": [
       "HBox(children=(FloatProgress(value=0.0, description='converting ASE atoms collection to Data objects', style=P…"
      ]
     },
     "metadata": {},
     "output_type": "display_data"
    },
    {
     "name": "stdout",
     "output_type": "stream",
     "text": [
      "\n"
     ]
    },
    {
     "data": {
      "application/vnd.jupyter.widget-view+json": {
       "model_id": "71865816514a4689865b28e636295861",
       "version_major": 2,
       "version_minor": 0
      },
      "text/plain": [
       "HBox(children=(FloatProgress(value=0.0, description='Scaling Feature data (normalize)', style=ProgressStyle(de…"
      ]
     },
     "metadata": {},
     "output_type": "display_data"
    },
    {
     "name": "stdout",
     "output_type": "stream",
     "text": [
      "\n"
     ]
    },
    {
     "data": {
      "application/vnd.jupyter.widget-view+json": {
       "model_id": "bc8aa57ae8244217925a35d2e36f1f7a",
       "version_major": 2,
       "version_minor": 0
      },
      "text/plain": [
       "HBox(children=(FloatProgress(value=0.0, description='Scaling Target data', style=ProgressStyle(description_wid…"
      ]
     },
     "metadata": {},
     "output_type": "display_data"
    },
    {
     "name": "stdout",
     "output_type": "stream",
     "text": [
      "\n",
      "Loading dataset: 100 images\n",
      "Loading model: 1023 parameters\n",
      "Loading skorch trainer\n",
      "  epoch    train_energy_mae    train_forces_mae    train_loss    cp     dur\n",
      "-------  ------------------  ------------------  ------------  ----  ------\n",
      "      1              \u001b[36m0.6699\u001b[0m              \u001b[32m0.3765\u001b[0m        \u001b[35m0.4504\u001b[0m     +  0.0366\n",
      "      2              \u001b[36m0.5186\u001b[0m              \u001b[32m0.3440\u001b[0m        \u001b[35m0.4043\u001b[0m     +  0.0354\n",
      "      3              \u001b[36m0.4314\u001b[0m              \u001b[32m0.3344\u001b[0m        \u001b[35m0.3154\u001b[0m     +  0.0354\n",
      "      4              \u001b[36m0.4169\u001b[0m              \u001b[32m0.3338\u001b[0m        0.3565     +  0.0352\n",
      "      5              \u001b[36m0.3966\u001b[0m              0.3392        \u001b[35m0.2084\u001b[0m     +  0.0349\n"
     ]
    },
    {
     "name": "stderr",
     "output_type": "stream",
     "text": [
      "<string>:6: VisibleDeprecationWarning: Creating an ndarray from ragged nested sequences (which is a list-or-tuple of lists-or-tuples-or ndarrays with different lengths or shapes) is deprecated. If you meant to do this, you must specify 'dtype=object' when creating the ndarray\n"
     ]
    },
    {
     "name": "stdout",
     "output_type": "stream",
     "text": [
      "      6              \u001b[36m0.3887\u001b[0m              0.3378        0.4124     +  0.0348\n",
      "      7              \u001b[36m0.3740\u001b[0m              0.3360        \u001b[35m0.1773\u001b[0m     +  0.0341\n",
      "      8              \u001b[36m0.3564\u001b[0m              \u001b[32m0.3336\u001b[0m        0.2445     +  0.0335\n",
      "      9              \u001b[36m0.3358\u001b[0m              0.3375        \u001b[35m0.1515\u001b[0m     +  0.0336\n",
      "     10              \u001b[36m0.2942\u001b[0m              0.3359        0.2218     +  0.0336\n",
      "Training completed in 0.4174649715423584s\n"
     ]
    },
    {
     "data": {
      "text/plain": [
       "0.4174649715423584"
      ]
     },
     "execution_count": 5,
     "metadata": {},
     "output_type": "execute_result"
    }
   ],
   "source": [
    "torch.set_num_threads(1)\n",
    "trainer = AtomsTrainer(config)\n",
    "trainer.train()"
   ]
  },
  {
   "cell_type": "markdown",
   "id": "4b3dd396",
   "metadata": {},
   "source": [
    "### Use the neural network as an ase calculator to make predictions"
   ]
  },
  {
   "cell_type": "code",
   "execution_count": 6,
   "id": "8ed357ad",
   "metadata": {},
   "outputs": [
    {
     "name": "stdout",
     "output_type": "stream",
     "text": [
      "Energy MSE: 0.41248591114113947\n",
      "Energy MAE: 0.3939685106821985\n"
     ]
    },
    {
     "data": {
      "text/plain": [
       "10.50893783569336"
      ]
     },
     "execution_count": 6,
     "metadata": {},
     "output_type": "execute_result"
    }
   ],
   "source": [
    "predictions = trainer.predict(images)\n",
    "\n",
    "# assess errors\n",
    "\n",
    "true_energies = np.array([image.get_potential_energy() for image in images])\n",
    "pred_energies = np.array(predictions[\"energy\"])\n",
    "\n",
    "print(\"Energy MSE:\", np.mean((true_energies - pred_energies) ** 2))\n",
    "print(\"Energy MAE:\", np.mean(np.abs(true_energies - pred_energies)))\n",
    "\n",
    "images[0].set_calculator(AMPtorch(trainer))\n",
    "images[0].get_potential_energy()"
   ]
  },
  {
   "cell_type": "markdown",
   "id": "177d7048",
   "metadata": {},
   "source": [
    "## Training on 2D water dataset with GMP + SingleNN <a name=\"training_gmp\"></a>"
   ]
  },
  {
   "cell_type": "markdown",
   "id": "5f6c644b",
   "metadata": {},
   "source": [
    "### Construct the training dataset\n",
    "\n",
    "As an example of the training dataset, we calculate the potential energy and forces for 2-D single water potential energy surface. This dataset is calculated by Quantem Espresso (xc, PBE. kpts, (1,1,1). Planewave, 500.) One O-H bond length is fixed, and the other O-H length and the H-O-H bond angle are allowed to vary. \n",
    "\n",
    "Required information in the training datasets contains:\n",
    "1. cell size\n",
    "2. periodic boundary conditions\n",
    "3. atomic positions\n",
    "4. potential energy\n",
    "5. forces, if doing force training"
   ]
  },
  {
   "cell_type": "code",
   "execution_count": 7,
   "id": "c84fdcfe",
   "metadata": {},
   "outputs": [
    {
     "data": {
      "text/plain": [
       "400"
      ]
     },
     "execution_count": 7,
     "metadata": {},
     "output_type": "execute_result"
    }
   ],
   "source": [
    "# get training images by reading trajectory files\n",
    "\n",
    "# read all images from the trajectory\n",
    "training = ase.io.read(\"./data/water_2d.traj\", index=\":\")\n",
    "\n",
    "# read every 10th image from the trajectory\n",
    "# training = ase.io.read(\"./data/water_2d.traj\", index=\"::10\")\n",
    "\n",
    "# print the length of the image\n",
    "len(training)"
   ]
  },
  {
   "cell_type": "code",
   "execution_count": 8,
   "id": "94a9cdfb",
   "metadata": {},
   "outputs": [
    {
     "name": "stdout",
     "output_type": "stream",
     "text": [
      "Cell([10.0, 10.0, 10.0])\n",
      "[ True  True  True]\n",
      "[[5.         4.82418565 5.2981545 ]\n",
      " [5.         5.58742465 4.7018455 ]\n",
      " [5.         4.41257535 4.77131852]]\n",
      "-593.6701598080588\n",
      "[[  0.          31.22263082  36.76981108]\n",
      " [  0.           1.73799984   1.01589577]\n",
      " [  0.         -32.96063066 -37.78570684]]\n",
      "Atoms(symbols='OH2', pbc=True, cell=[10.0, 10.0, 10.0], calculator=SinglePointCalculator(...))\n"
     ]
    }
   ],
   "source": [
    "# check the information\n",
    "\n",
    "# cell size\n",
    "print(training[0].get_cell())\n",
    "\n",
    "# periodic boundary condition\n",
    "print(training[0].get_pbc())\n",
    "\n",
    "# atomic positions\n",
    "print(training[0].get_positions())\n",
    "\n",
    "# system potential energy\n",
    "print(training[0].get_potential_energy())\n",
    "\n",
    "# forces\n",
    "print(training[0].get_forces())\n",
    "\n",
    "# ase.Atoms object\n",
    "print(training[0])"
   ]
  },
  {
   "cell_type": "markdown",
   "id": "6a264f3d",
   "metadata": {},
   "source": [
    "### Define fingerprinting scheme\n",
    "\n",
    "Here we demonstrate with the GMP fingerprinting scheme. It requires the fitted pseduo-potentials of every elements. Access to the fitted pseduo-potentials:\n",
    "<https://github.com/ulissigroup/amptorch/tree/MCSH_paper1_lmdb/examples/GMP/valence_gaussians>\n",
    "\n",
    "Like G2 and G4 symmetry functions, GMP uses $\\sigma$'s in the radial coordinates and MCSH groups and orders in the angular coordinates."
   ]
  },
  {
   "cell_type": "code",
   "execution_count": 9,
   "id": "f5045942",
   "metadata": {},
   "outputs": [],
   "source": [
    "sigmas = [0.2, 0.69, 1.1, 1.66, 2.66]\n",
    "\n",
    "MCSHs = {\n",
    "    \"MCSHs\": {\n",
    "        \"0\": {\"groups\": [1], \"sigmas\": sigmas},\n",
    "        \"1\": {\"groups\": [1], \"sigmas\": sigmas},\n",
    "        \"2\": {\"groups\": [1, 2], \"sigmas\": sigmas},\n",
    "#         \"3\": {\"groups\": [1, 2, 3], \"sigmas\": sigmas},\n",
    "#         \"4\": {\"groups\": [1, 2, 3, 4], \"sigmas\": sigmas},\n",
    "        # \"5\": {\"groups\": [1, 2, 3, 4, 5], \"sigmas\": sigmas},\n",
    "        # \"6\": {\"groups\": [1, 2, 3, 4, 5, 6, 7], \"sigmas\": sigmas},\n",
    "    },\n",
    "    \"atom_gaussians\": {\n",
    "        \"H\": \"./valence_gaussians/H_pseudodensity_2.g\",\n",
    "        \"O\": \"./valence_gaussians/O_pseudodensity_4.g\",\n",
    "    },\n",
    "    \"cutoff\": 8,\n",
    "}\n",
    "\n",
    "elements = [\"H\", \"O\"]"
   ]
  },
  {
   "cell_type": "markdown",
   "id": "fb9ba2b9",
   "metadata": {},
   "source": [
    "### Define the configuration for trainer object\n",
    "\n",
    "Detailed introductions and other specifications supported in trainer object can be found here under Section Usage/Configs: \n",
    "<https://github.com/ulissigroup/amptorch/tree/MCSH_paper1_lmdb>"
   ]
  },
  {
   "cell_type": "code",
   "execution_count": 10,
   "id": "1a9996dd",
   "metadata": {},
   "outputs": [],
   "source": [
    "config = {\n",
    "    \"model\": {\n",
    "        \"name\":\"singlenn\",\n",
    "        \"get_forces\": True,\n",
    "        \"num_layers\": 3,\n",
    "        \"num_nodes\": 10,\n",
    "        \"batchnorm\": True,\n",
    "    },\n",
    "    \"optim\": {\n",
    "        \"force_coefficient\": 0.01,\n",
    "        \"lr\": 1e-3,\n",
    "        \"batch_size\": 16,\n",
    "        \"epochs\": 500,\n",
    "        \"loss\": \"mse\",\n",
    "        \"metric\": \"mae\",\n",
    "    },\n",
    "    \"dataset\": {\n",
    "        \"raw_data\": training,\n",
    "        \"fp_scheme\": \"gmp\",\n",
    "        \"fp_params\": MCSHs,\n",
    "        \"elements\": elements,\n",
    "        \"save_fps\": True,\n",
    "        \"scaling\": {\"type\": \"normalize\", \"range\": (0, 1)},\n",
    "        \"val_split\": 0.1,\n",
    "    },\n",
    "    \"cmd\": {\n",
    "        \"debug\": False,\n",
    "        \"run_dir\": \"./\",\n",
    "        \"seed\": 1,\n",
    "        \"identifier\": \"test\",\n",
    "        \"verbose\": True,\n",
    "        # Weights and Biases used for logging - an account(free) is required\n",
    "        \"logger\": False,\n",
    "    },\n",
    "}"
   ]
  },
  {
   "cell_type": "markdown",
   "id": "3f40c4e7",
   "metadata": {},
   "source": [
    "### Hit go and train"
   ]
  },
  {
   "cell_type": "code",
   "execution_count": 11,
   "id": "2a5e0533",
   "metadata": {
    "scrolled": true
   },
   "outputs": [
    {
     "name": "stdout",
     "output_type": "stream",
     "text": [
      "Results saved to ./checkpoints/2021-08-26-16-53-02-test\n"
     ]
    },
    {
     "data": {
      "application/vnd.jupyter.widget-view+json": {
       "model_id": "8388bcb5c0f34432855378ec55077636",
       "version_major": 2,
       "version_minor": 0
      },
      "text/plain": [
       "HBox(children=(FloatProgress(value=0.0, description='converting ASE atoms collection to Data objects', max=400…"
      ]
     },
     "metadata": {},
     "output_type": "display_data"
    },
    {
     "name": "stdout",
     "output_type": "stream",
     "text": [
      "\n"
     ]
    },
    {
     "data": {
      "application/vnd.jupyter.widget-view+json": {
       "model_id": "57763da293354da4b8e14116502899a1",
       "version_major": 2,
       "version_minor": 0
      },
      "text/plain": [
       "HBox(children=(FloatProgress(value=0.0, description='Scaling Feature data (normalize)', max=400.0, style=Progr…"
      ]
     },
     "metadata": {},
     "output_type": "display_data"
    },
    {
     "name": "stdout",
     "output_type": "stream",
     "text": [
      "\n"
     ]
    },
    {
     "data": {
      "application/vnd.jupyter.widget-view+json": {
       "model_id": "fbfa511bce36452c9443e8e1a705c5c2",
       "version_major": 2,
       "version_minor": 0
      },
      "text/plain": [
       "HBox(children=(FloatProgress(value=0.0, description='Scaling Target data', max=400.0, style=ProgressStyle(desc…"
      ]
     },
     "metadata": {},
     "output_type": "display_data"
    },
    {
     "name": "stdout",
     "output_type": "stream",
     "text": [
      "\n",
      "Loading dataset: 400 images\n",
      "Loading model: 371 parameters\n",
      "Loading skorch trainer\n",
      "  epoch    train_energy_mae    train_forces_mae    train_loss    val_energy_mae    val_forces_mae    valid_loss    cp     dur\n",
      "-------  ------------------  ------------------  ------------  ----------------  ----------------  ------------  ----  ------\n",
      "      1              \u001b[36m1.4376\u001b[0m              \u001b[32m2.5889\u001b[0m        \u001b[35m0.5513\u001b[0m            \u001b[31m1.4880\u001b[0m            \u001b[94m3.1067\u001b[0m        \u001b[36m0.6659\u001b[0m     +  0.1111\n",
      "      2              \u001b[36m0.9171\u001b[0m              2.5969        \u001b[35m0.2900\u001b[0m            \u001b[31m0.9112\u001b[0m            \u001b[94m2.3525\u001b[0m        \u001b[36m0.3266\u001b[0m     +  0.1087\n",
      "      3              \u001b[36m0.6900\u001b[0m              2.6226        \u001b[35m0.2045\u001b[0m            \u001b[31m0.5069\u001b[0m            2.4538        \u001b[36m0.2256\u001b[0m     +  0.1080\n",
      "      4              \u001b[36m0.5156\u001b[0m              \u001b[32m2.5666\u001b[0m        \u001b[35m0.1560\u001b[0m            \u001b[31m0.4262\u001b[0m            2.3863        \u001b[36m0.1876\u001b[0m     +  0.1083\n",
      "      5              \u001b[36m0.4824\u001b[0m              2.5806        \u001b[35m0.1489\u001b[0m            0.4354            \u001b[94m2.1777\u001b[0m        \u001b[36m0.1554\u001b[0m        0.1091\n",
      "      6              \u001b[36m0.4413\u001b[0m              \u001b[32m2.4960\u001b[0m        \u001b[35m0.1357\u001b[0m            \u001b[31m0.3316\u001b[0m            2.3751        \u001b[36m0.1079\u001b[0m     +  0.1090\n",
      "      7              \u001b[36m0.3977\u001b[0m              \u001b[32m2.4325\u001b[0m        \u001b[35m0.1138\u001b[0m            \u001b[31m0.3205\u001b[0m            \u001b[94m2.1401\u001b[0m        \u001b[36m0.0904\u001b[0m     +  0.1148\n",
      "      8              \u001b[36m0.3616\u001b[0m              \u001b[32m2.3764\u001b[0m        \u001b[35m0.0957\u001b[0m            0.3405            \u001b[94m1.8759\u001b[0m        \u001b[36m0.0843\u001b[0m        0.1081\n",
      "      9              \u001b[36m0.3451\u001b[0m              \u001b[32m2.3144\u001b[0m        \u001b[35m0.0915\u001b[0m            \u001b[31m0.2648\u001b[0m            1.9352        \u001b[36m0.0726\u001b[0m     +  0.1081\n",
      "     10              0.4315              \u001b[32m2.2992\u001b[0m        0.1017            0.3012            \u001b[94m1.8225\u001b[0m        \u001b[36m0.0713\u001b[0m        0.1082\n",
      "     11              \u001b[36m0.3091\u001b[0m              \u001b[32m2.2859\u001b[0m        \u001b[35m0.0811\u001b[0m            0.2923            \u001b[94m1.6468\u001b[0m        \u001b[36m0.0594\u001b[0m        0.1077\n",
      "     12              0.3965              \u001b[32m2.2435\u001b[0m        0.0937            \u001b[31m0.2583\u001b[0m            1.8878        0.0668     +  0.1077\n",
      "     13              \u001b[36m0.3059\u001b[0m              \u001b[32m2.2053\u001b[0m        \u001b[35m0.0758\u001b[0m            0.2798            \u001b[94m1.6456\u001b[0m        \u001b[36m0.0565\u001b[0m        0.1100\n",
      "     14              0.3468              \u001b[32m2.1941\u001b[0m        0.0822            0.3151            \u001b[94m1.4944\u001b[0m        \u001b[36m0.0521\u001b[0m        0.1098\n",
      "     15              0.3135              \u001b[32m2.1416\u001b[0m        \u001b[35m0.0710\u001b[0m            0.3147            1.5867        0.0566        0.1085\n",
      "     16              0.3528              \u001b[32m2.1284\u001b[0m        0.0766            \u001b[31m0.2453\u001b[0m            1.6548        \u001b[36m0.0482\u001b[0m     +  0.1082\n",
      "     17              0.3742              2.1339        0.0828            0.2595            1.5457        \u001b[36m0.0415\u001b[0m        0.1081\n",
      "     18              0.3093              \u001b[32m2.0994\u001b[0m        \u001b[35m0.0697\u001b[0m            0.2459            1.5775        0.0442        0.1082\n",
      "     19              \u001b[36m0.3057\u001b[0m              2.1141        0.0707            \u001b[31m0.2396\u001b[0m            1.5553        \u001b[36m0.0386\u001b[0m     +  0.1118\n",
      "     20              0.3120              \u001b[32m2.0656\u001b[0m        \u001b[35m0.0627\u001b[0m            0.2690            \u001b[94m1.4828\u001b[0m        0.0403        0.1238\n",
      "     21              \u001b[36m0.2810\u001b[0m              \u001b[32m2.0305\u001b[0m        \u001b[35m0.0583\u001b[0m            0.2519            1.5609        \u001b[36m0.0385\u001b[0m        0.1208\n",
      "     22              0.3616              2.0754        0.0742            0.2744            1.5085        \u001b[36m0.0372\u001b[0m        0.1087\n",
      "     23              0.2924              \u001b[32m1.9738\u001b[0m        \u001b[35m0.0557\u001b[0m            \u001b[31m0.1905\u001b[0m            1.5192        \u001b[36m0.0279\u001b[0m     +  0.1089\n",
      "     24              \u001b[36m0.2543\u001b[0m              \u001b[32m1.9595\u001b[0m        \u001b[35m0.0502\u001b[0m            0.2781            \u001b[94m1.3355\u001b[0m        0.0336        0.1094\n",
      "     25              0.2720              \u001b[32m1.9471\u001b[0m        0.0507            0.2259            1.4229        \u001b[36m0.0275\u001b[0m        0.1115\n",
      "     26              0.3335              1.9640        0.0623            0.2724            \u001b[94m1.2934\u001b[0m        0.0328        0.1181\n",
      "     27              0.2712              \u001b[32m1.9165\u001b[0m        0.0534            0.2486            1.2982        0.0287        0.1162\n",
      "     28              0.2764              \u001b[32m1.8877\u001b[0m        \u001b[35m0.0474\u001b[0m            0.2645            \u001b[94m1.2621\u001b[0m        0.0292        0.1094\n",
      "     29              0.2608              \u001b[32m1.8356\u001b[0m        \u001b[35m0.0444\u001b[0m            \u001b[31m0.1892\u001b[0m            1.3841        \u001b[36m0.0222\u001b[0m     +  0.1109\n",
      "     30              0.3052              1.8604        0.0551            0.1901            1.5446        0.0298        0.1120\n",
      "     31              0.2967              1.8407        0.0484            0.4324            \u001b[94m1.1546\u001b[0m        0.0507        0.1153\n",
      "     32              0.3166              \u001b[32m1.8137\u001b[0m        0.0543            0.1930            1.3228        \u001b[36m0.0198\u001b[0m        0.1184\n",
      "     33              \u001b[36m0.2539\u001b[0m              \u001b[32m1.7288\u001b[0m        \u001b[35m0.0380\u001b[0m            \u001b[31m0.1837\u001b[0m            1.3994        \u001b[36m0.0197\u001b[0m     +  0.1196\n",
      "     34              \u001b[36m0.2326\u001b[0m              \u001b[32m1.7178\u001b[0m        \u001b[35m0.0369\u001b[0m            0.2328            1.3120        0.0239        0.1110\n",
      "     35              0.2740              \u001b[32m1.6847\u001b[0m        0.0424            0.2858            \u001b[94m1.0862\u001b[0m        0.0295        0.1096\n",
      "     36              0.2744              \u001b[32m1.6568\u001b[0m        0.0394            0.3541            \u001b[94m1.0739\u001b[0m        0.0443        0.1091\n",
      "     37              0.2351              \u001b[32m1.6049\u001b[0m        \u001b[35m0.0310\u001b[0m            \u001b[31m0.1714\u001b[0m            1.1734        \u001b[36m0.0159\u001b[0m     +  0.1129\n",
      "     38              \u001b[36m0.2208\u001b[0m              1.6362        \u001b[35m0.0285\u001b[0m            \u001b[31m0.1456\u001b[0m            1.1699        \u001b[36m0.0139\u001b[0m     +  0.1222\n",
      "     39              \u001b[36m0.2207\u001b[0m              \u001b[32m1.6048\u001b[0m        0.0293            0.1764            1.0831        0.0160        0.1183\n",
      "     40              0.2548              \u001b[32m1.5678\u001b[0m        0.0305            0.2124            1.1627        0.0188        0.1088\n",
      "     41              0.2371              \u001b[32m1.5153\u001b[0m        \u001b[35m0.0275\u001b[0m            0.3675            1.4494        0.0448        0.1090\n",
      "     42              0.2356              \u001b[32m1.4770\u001b[0m        \u001b[35m0.0267\u001b[0m            0.1773            1.1293        0.0161        0.1105\n",
      "     43              0.2635              1.5271        0.0338            0.2234            1.1313        0.0196        0.1160\n",
      "     44              \u001b[36m0.2067\u001b[0m              \u001b[32m1.4062\u001b[0m        \u001b[35m0.0222\u001b[0m            0.1844            1.1697        0.0151        0.1211\n",
      "     45              0.2263              \u001b[32m1.3950\u001b[0m        0.0235            0.3183            1.0795        0.0315        0.1134\n",
      "     46              \u001b[36m0.1981\u001b[0m              \u001b[32m1.3697\u001b[0m        \u001b[35m0.0200\u001b[0m            0.1927            1.0815        0.0182        0.1093\n",
      "     47              0.2307              1.3978        0.0285            0.2006            1.1493        0.0232        0.1116\n",
      "     48              0.2022              1.4351        0.0246            0.1573            1.1708        0.0156        0.1115\n",
      "     49              \u001b[36m0.1740\u001b[0m              \u001b[32m1.3266\u001b[0m        \u001b[35m0.0177\u001b[0m            0.2243            1.1302        0.0200        0.1135\n",
      "     50              0.2177              \u001b[32m1.3220\u001b[0m        0.0216            \u001b[31m0.1357\u001b[0m            1.1188        \u001b[36m0.0130\u001b[0m     +  0.1187\n",
      "     51              0.2316              1.3616        0.0254            0.2185            1.1761        0.0251        0.1148\n",
      "     52              0.1944              \u001b[32m1.2573\u001b[0m        0.0184            0.1549            1.1909        0.0140        0.1104\n",
      "     53              0.1818              \u001b[32m1.2481\u001b[0m        \u001b[35m0.0167\u001b[0m            0.1672            1.1362        0.0162        0.1102\n"
     ]
    },
    {
     "name": "stdout",
     "output_type": "stream",
     "text": [
      "     54              0.1974              1.2507        0.0190            0.1543            \u001b[94m0.9788\u001b[0m        \u001b[36m0.0122\u001b[0m        0.1105\n",
      "     55              0.2010              1.2763        0.0195            0.1882            1.0059        0.0148        0.1154\n",
      "     56              \u001b[36m0.1619\u001b[0m              \u001b[32m1.2420\u001b[0m        \u001b[35m0.0152\u001b[0m            0.1670            1.1744        0.0142        0.1193\n",
      "     57              0.1899              \u001b[32m1.1925\u001b[0m        0.0174            0.1720            1.0814        0.0162        0.1137\n",
      "     58              0.1911              1.2021        0.0197            0.1386            1.0176        \u001b[36m0.0111\u001b[0m        0.1092\n",
      "     59              0.1879              \u001b[32m1.1874\u001b[0m        0.0166            0.1358            1.0939        0.0118        0.1102\n",
      "     60              0.1664              \u001b[32m1.1516\u001b[0m        \u001b[35m0.0134\u001b[0m            0.1503            0.9794        0.0115        0.1137\n",
      "     61              0.1792              1.1591        0.0152            0.1429            1.0152        0.0130        0.1206\n",
      "     62              0.1666              \u001b[32m1.1468\u001b[0m        0.0143            0.1567            \u001b[94m0.9385\u001b[0m        0.0138        0.1199\n",
      "     63              \u001b[36m0.1606\u001b[0m              \u001b[32m1.1239\u001b[0m        0.0137            \u001b[31m0.1253\u001b[0m            \u001b[94m0.9333\u001b[0m        \u001b[36m0.0096\u001b[0m     +  0.1119\n",
      "     64              0.1787              1.1556        0.0159            0.2152            0.9962        0.0146        0.1097\n",
      "     65              0.2011              1.1629        0.0190            \u001b[31m0.1224\u001b[0m            0.9835        \u001b[36m0.0094\u001b[0m     +  0.1117\n",
      "     66              0.1950              1.1672        0.0187            0.1667            1.0004        0.0163        0.1176\n",
      "     67              0.2048              1.1601        0.0193            0.1970            \u001b[94m0.9276\u001b[0m        0.0176        0.1186\n",
      "     68              0.1748              1.1249        0.0147            0.2402            0.9793        0.0217        0.1149\n",
      "     69              \u001b[36m0.1590\u001b[0m              \u001b[32m1.0828\u001b[0m        0.0134            \u001b[31m0.1196\u001b[0m            0.9410        \u001b[36m0.0084\u001b[0m     +  0.1111\n",
      "     70              0.2099              1.1276        0.0209            0.1666            1.1064        0.0158        0.1116\n",
      "     71              0.1914              \u001b[32m1.0640\u001b[0m        0.0157            0.1286            0.9315        0.0087        0.1124\n",
      "     72              0.1852              \u001b[32m1.0609\u001b[0m        0.0179            0.1480            \u001b[94m0.8980\u001b[0m        0.0096        0.1142\n",
      "     73              0.1779              \u001b[32m1.0325\u001b[0m        0.0152            0.1395            \u001b[94m0.8627\u001b[0m        \u001b[36m0.0084\u001b[0m        0.1170\n",
      "     74              \u001b[36m0.1549\u001b[0m              1.0594        \u001b[35m0.0123\u001b[0m            0.1424            0.9010        0.0114        0.1161\n",
      "     75              0.1587              \u001b[32m1.0263\u001b[0m        \u001b[35m0.0112\u001b[0m            \u001b[31m0.1108\u001b[0m            0.9584        \u001b[36m0.0071\u001b[0m     +  0.1114\n",
      "     76              \u001b[36m0.1441\u001b[0m              \u001b[32m1.0052\u001b[0m        \u001b[35m0.0101\u001b[0m            0.1240            0.9094        0.0085        0.1104\n",
      "     77              \u001b[36m0.1296\u001b[0m              \u001b[32m0.9961\u001b[0m        0.0106            0.1130            0.8867        0.0074        0.1115\n",
      "     78              0.1553              1.0156        0.0125            0.1396            0.8928        0.0078        0.1179\n",
      "     79              0.1530              \u001b[32m0.9888\u001b[0m        0.0117            0.1913            0.8867        0.0120        0.1186\n",
      "     80              0.1317              \u001b[32m0.9455\u001b[0m        \u001b[35m0.0095\u001b[0m            \u001b[31m0.1107\u001b[0m            0.8865        0.0082     +  0.1114\n",
      "     81              0.1412              0.9707        0.0101            0.1114            \u001b[94m0.8472\u001b[0m        \u001b[36m0.0064\u001b[0m        0.1103\n",
      "     82              0.1399              0.9652        0.0101            0.1170            0.9164        0.0072        0.1130\n",
      "     83              0.1532              0.9686        0.0120            0.1298            0.9396        0.0101        0.1177\n",
      "     84              0.1370              \u001b[32m0.9380\u001b[0m        0.0098            0.1192            0.9298        0.0080        0.1180\n",
      "     85              \u001b[36m0.1269\u001b[0m              \u001b[32m0.8847\u001b[0m        \u001b[35m0.0081\u001b[0m            \u001b[31m0.0887\u001b[0m            \u001b[94m0.8200\u001b[0m        \u001b[36m0.0053\u001b[0m     +  0.1118\n",
      "     86              0.1448              0.9537        0.0106            0.1351            0.8886        0.0096        0.1097\n",
      "     87              0.1447              0.9474        0.0107            0.1083            \u001b[94m0.8168\u001b[0m        0.0060        0.1119\n",
      "     88              \u001b[36m0.1240\u001b[0m              0.9303        \u001b[35m0.0077\u001b[0m            \u001b[31m0.0845\u001b[0m            0.8393        \u001b[36m0.0050\u001b[0m     +  0.1181\n",
      "     89              0.1378              0.9093        0.0090            0.1239            0.8833        0.0071        0.1153\n",
      "     90              0.1284              0.8984        0.0091            0.1417            0.9396        0.0097        0.1132\n",
      "     91              0.1600              0.9203        0.0110            0.1296            0.8446        0.0088        0.1119\n",
      "     92              0.1333              0.8882        0.0085            0.0929            0.8350        0.0058        0.1114\n",
      "     93              \u001b[36m0.1184\u001b[0m              0.9185        0.0083            0.1007            \u001b[94m0.7951\u001b[0m        0.0059        0.1147\n",
      "     94              0.1423              0.9230        0.0110            0.1172            0.8769        0.0089        0.1164\n",
      "     95              0.1319              0.9444        0.0088            0.1209            0.8386        0.0069        0.1147\n",
      "     96              0.1390              0.9335        0.0105            0.1355            0.8338        0.0108        0.1129\n",
      "     97              0.1472              0.9145        0.0105            0.1235            0.9474        0.0094        0.1119\n",
      "     98              0.1419              \u001b[32m0.8725\u001b[0m        0.0088            \u001b[31m0.0835\u001b[0m            0.8280        \u001b[36m0.0048\u001b[0m     +  0.1121\n",
      "     99              0.1192              0.8766        \u001b[35m0.0076\u001b[0m            0.1055            0.8268        0.0066        0.1165\n",
      "    100              0.1227              0.8918        0.0084            0.1114            \u001b[94m0.7919\u001b[0m        0.0061        0.1176\n",
      "    101              0.1191              \u001b[32m0.8477\u001b[0m        0.0077            0.1004            0.9088        0.0074        0.1167\n",
      "    102              0.1301              0.8497        0.0088            0.0914            0.8906        0.0060        0.1120\n",
      "    103              0.1231              0.8729        0.0085            0.1098            \u001b[94m0.7818\u001b[0m        0.0064        0.1100\n",
      "    104              0.1265              0.8727        0.0080            0.1128            0.8088        0.0063        0.1130\n",
      "    105              0.1361              0.8703        0.0100            0.0949            \u001b[94m0.7679\u001b[0m        0.0053        0.1169\n",
      "    106              0.1310              0.8571        0.0086            0.1127            0.8669        0.0065        0.1173\n",
      "    107              \u001b[36m0.1177\u001b[0m              \u001b[32m0.8365\u001b[0m        \u001b[35m0.0071\u001b[0m            0.0993            0.8134        0.0066        0.1122\n",
      "    108              0.1217              0.8542        0.0075            0.0839            0.8363        0.0052        0.1114\n",
      "    109              \u001b[36m0.1145\u001b[0m              \u001b[32m0.8280\u001b[0m        \u001b[35m0.0066\u001b[0m            \u001b[31m0.0648\u001b[0m            0.8039        \u001b[36m0.0041\u001b[0m     +  0.1127\n",
      "    110              \u001b[36m0.1094\u001b[0m              0.8315        \u001b[35m0.0064\u001b[0m            0.0785            \u001b[94m0.7388\u001b[0m        0.0041        0.1175\n",
      "    111              0.1226              0.8683        0.0083            0.0962            0.7886        0.0054        0.1145\n",
      "    112              0.1216              \u001b[32m0.8205\u001b[0m        0.0073            0.0722            0.8018        0.0051        0.1118\n",
      "    113              0.1212              \u001b[32m0.8194\u001b[0m        0.0076            0.1080            0.8220        0.0063        0.1112\n"
     ]
    },
    {
     "name": "stdout",
     "output_type": "stream",
     "text": [
      "    114              0.1238              0.8692        0.0079            0.0881            0.7517        0.0043        0.1147\n",
      "    115              0.1306              0.8777        0.0094            0.0745            0.7836        0.0042        0.1161\n",
      "    116              \u001b[36m0.1079\u001b[0m              0.8383        \u001b[35m0.0064\u001b[0m            0.0659            0.8047        \u001b[36m0.0040\u001b[0m        0.1128\n",
      "    117              0.1452              0.8595        0.0153            0.0977            0.8160        0.0056        0.1125\n",
      "    118              0.1642              0.8912        0.0138            0.1387            0.7944        0.0093        0.1134\n",
      "    119              0.1513              0.8647        0.0105            0.0951            0.8193        0.0054        0.1136\n",
      "    120              0.1295              0.8624        0.0092            0.0799            0.8154        0.0051        0.1139\n",
      "    121              0.1086              0.8308        0.0069            0.0737            0.7839        \u001b[36m0.0039\u001b[0m        0.1137\n",
      "    122              \u001b[36m0.1015\u001b[0m              \u001b[32m0.8079\u001b[0m        \u001b[35m0.0056\u001b[0m            0.0821            0.7875        0.0046        0.1142\n",
      "    123              0.1092              \u001b[32m0.8063\u001b[0m        0.0068            0.0818            0.8527        0.0050        0.1154\n",
      "    124              0.1091              \u001b[32m0.7971\u001b[0m        0.0061            0.1399            0.7788        0.0099        0.1108\n",
      "    125              0.1025              \u001b[32m0.7899\u001b[0m        0.0057            0.0697            0.8076        0.0045        0.1123\n",
      "    126              0.1034              0.8239        0.0062            \u001b[31m0.0561\u001b[0m            0.7794        \u001b[36m0.0036\u001b[0m     +  0.1140\n",
      "    127              0.1132              0.8172        0.0069            0.0886            0.7650        0.0041        0.1163\n",
      "    128              0.1051              0.8257        0.0064            0.0694            0.8112        0.0047        0.1131\n",
      "    129              0.1113              0.8296        0.0070            0.0903            \u001b[94m0.7051\u001b[0m        0.0048        0.1114\n",
      "    130              0.1109              \u001b[32m0.7726\u001b[0m        0.0064            0.0598            0.7316        0.0036        0.1147\n",
      "    131              0.1442              0.9103        0.0118            0.1855            0.9637        0.0247        0.1171\n",
      "    132              0.1446              0.8488        0.0097            0.1674            \u001b[94m0.6934\u001b[0m        0.0163        0.1159\n",
      "    133              0.1419              0.8412        0.0097            0.1114            0.7671        0.0072        0.1115\n",
      "    134              0.1279              0.8437        0.0096            0.0810            0.8336        0.0062        0.1120\n",
      "    135              0.1404              0.8066        0.0090            0.1193            0.7943        0.0061        0.1140\n",
      "    136              0.1224              0.8079        0.0072            0.0702            0.7877        0.0047        0.1185\n",
      "    137              0.1159              0.8074        0.0073            0.1192            0.7570        0.0102        0.1145\n",
      "    138              0.1490              0.8444        0.0096            0.1081            0.7009        0.0062        0.1113\n",
      "    139              0.1256              0.8280        0.0081            0.0888            0.7164        0.0044        0.1138\n",
      "    140              0.1209              0.8359        0.0076            0.0728            0.7898        0.0040        0.1138\n",
      "    141              0.1223              0.8426        0.0085            0.0644            0.7773        0.0039        0.1170\n",
      "    142              0.1062              0.7743        0.0062            0.1293            0.7282        0.0081        0.1133\n",
      "    143              0.1071              0.7910        0.0060            \u001b[31m0.0554\u001b[0m            0.7232        \u001b[36m0.0030\u001b[0m     +  0.1111\n",
      "    144              0.1184              0.8351        0.0080            0.0966            0.7744        0.0049        0.1144\n",
      "    145              0.1148              0.7862        0.0068            0.0868            0.7858        0.0046        0.1147\n",
      "    146              \u001b[36m0.1015\u001b[0m              \u001b[32m0.7461\u001b[0m        \u001b[35m0.0055\u001b[0m            \u001b[31m0.0548\u001b[0m            \u001b[94m0.6768\u001b[0m        \u001b[36m0.0029\u001b[0m     +  0.1151\n",
      "    147              0.1024              0.7775        0.0060            0.0828            0.6769        0.0037        0.1119\n",
      "    148              \u001b[36m0.0974\u001b[0m              0.7724        0.0056            0.0598            0.7292        0.0034        0.1126\n",
      "    149              0.1114              0.8209        0.0076            0.0642            0.7541        0.0042        0.1155\n",
      "    150              0.1161              0.7882        0.0075            0.0669            0.7178        0.0035        0.1135\n",
      "    151              0.1301              0.8427        0.0089            0.0652            0.7667        0.0036        0.1143\n",
      "    152              0.1220              0.8149        0.0096            0.1142            0.7669        0.0060        0.1117\n",
      "    153              0.1380              0.7841        0.0088            0.0911            0.7833        0.0047        0.1138\n",
      "    154              0.1219              0.7926        0.0073            0.1115            0.7887        0.0061        0.1148\n",
      "    155              0.1370              0.7986        0.0088            0.1723            0.6843        0.0158        0.1134\n",
      "    156              0.1428              0.8370        0.0102            0.1469            0.8694        0.0122        0.1162\n",
      "    157              0.1253              0.8013        0.0077            0.1007            0.7422        0.0052        0.1137\n",
      "    158              0.1077              0.7522        0.0063            0.0788            0.6989        0.0044        0.1136\n",
      "    159              0.0988              \u001b[32m0.7264\u001b[0m        \u001b[35m0.0051\u001b[0m            0.0704            0.7164        0.0035        0.1135\n",
      "    160              0.1177              0.7875        0.0067            0.0627            0.7286        0.0037        0.1128\n",
      "    161              0.1084              0.7841        0.0082            0.0867            0.7540        0.0054        0.1147\n",
      "    162              0.1149              0.8005        0.0078            0.0934            0.7038        0.0051        0.1134\n",
      "    163              \u001b[36m0.0962\u001b[0m              \u001b[32m0.7256\u001b[0m        0.0054            0.0745            0.6956        0.0044        0.1120\n",
      "    164              0.1079              0.7375        0.0063            0.0867            \u001b[94m0.6670\u001b[0m        0.0047        0.1127\n",
      "    165              0.1229              0.7746        0.0074            0.0705            0.6698        0.0032        0.1134\n",
      "    166              0.1082              0.7691        0.0060            0.0821            0.6931        0.0050        0.1171\n",
      "    167              \u001b[36m0.0948\u001b[0m              0.7563        0.0056            0.1400            0.7567        0.0092        0.1136\n",
      "    168              0.1268              0.7506        0.0079            0.0783            0.7122        0.0047        0.1110\n",
      "    169              0.1104              0.7326        0.0063            0.0586            0.7326        0.0036        0.1124\n",
      "    170              0.1080              0.7335        0.0057            0.0726            \u001b[94m0.6240\u001b[0m        0.0033        0.1140\n",
      "    171              0.1124              0.7281        0.0065            0.0834            0.6365        0.0040        0.1188\n",
      "    172              0.1042              \u001b[32m0.7058\u001b[0m        0.0052            0.0748            0.6678        0.0041        0.1126\n",
      "    173              0.1025              0.7141        0.0055            0.0640            0.7156        0.0036        0.1100\n",
      "    174              0.1010              0.7108        0.0070            0.0903            0.6967        0.0058        0.1123\n",
      "    175              0.1208              0.7760        0.0079            0.0894            0.7321        0.0051        0.1161\n",
      "    176              0.1077              0.7263        0.0061            0.0975            0.7137        0.0058        0.1192\n"
     ]
    },
    {
     "name": "stdout",
     "output_type": "stream",
     "text": [
      "    177              0.0969              0.7513        0.0061            0.0582            0.6916        0.0031        0.1110\n",
      "    178              0.1039              0.7508        0.0065            0.0884            0.6670        0.0040        0.1098\n",
      "    179              0.0996              0.7227        0.0052            0.0813            0.7257        0.0039        0.1128\n",
      "    180              0.1046              \u001b[32m0.6849\u001b[0m        0.0052            0.0659            0.6677        0.0034        0.1200\n",
      "    181              0.1165              0.7497        0.0066            0.0579            0.6819        0.0029        0.1178\n",
      "    182              0.0964              0.7563        0.0055            0.0714            0.6808        0.0038        0.1098\n",
      "    183              0.1085              0.7056        0.0060            0.1278            0.7350        0.0118        0.1101\n",
      "    184              0.1265              0.7523        0.0078            0.1064            0.6540        0.0052        0.1143\n",
      "    185              0.1029              0.7264        0.0065            0.1207            0.7048        0.0109        0.1206\n",
      "    186              0.0984              0.7333        0.0057            0.0791            0.6890        0.0037        0.1162\n",
      "    187              0.1045              \u001b[32m0.6805\u001b[0m        0.0052            0.1133            0.6654        0.0081        0.1116\n",
      "    188              0.1257              \u001b[32m0.6773\u001b[0m        0.0067            0.1190            0.6984        0.0099        0.1106\n",
      "    189              0.1080              0.6785        0.0056            0.0640            \u001b[94m0.6195\u001b[0m        0.0031        0.1151\n",
      "    190              0.0987              0.6905        \u001b[35m0.0049\u001b[0m            0.0665            \u001b[94m0.6142\u001b[0m        0.0031        0.1194\n",
      "    191              0.1099              0.6898        0.0063            0.0893            0.6582        0.0044        0.1145\n",
      "    192              0.1316              0.7168        0.0080            \u001b[31m0.0486\u001b[0m            0.6502        \u001b[36m0.0028\u001b[0m     +  0.1103\n",
      "    193              0.1159              0.6972        0.0073            0.1247            0.6688        0.0077        0.1122\n",
      "    194              0.1131              0.7192        0.0062            0.0856            0.6687        0.0040        0.1175\n",
      "    195              \u001b[36m0.0908\u001b[0m              \u001b[32m0.6550\u001b[0m        \u001b[35m0.0045\u001b[0m            0.0582            \u001b[94m0.5832\u001b[0m        \u001b[36m0.0022\u001b[0m        0.1173\n",
      "    196              0.1083              0.7474        0.0077            0.0818            0.6924        0.0038        0.1117\n",
      "    197              0.1053              \u001b[32m0.6537\u001b[0m        0.0052            0.0965            0.6213        0.0052        0.1101\n",
      "    198              0.0941              0.6842        0.0050            0.0713            0.6269        0.0032        0.1127\n",
      "    199              0.1144              0.7044        0.0063            0.0733            0.6753        0.0037        0.1163\n",
      "    200              0.1114              0.6824        0.0056            0.0738            0.6352        0.0038        0.1155\n",
      "    201              0.0985              0.6761        0.0052            0.0651            0.6312        0.0029        0.1115\n",
      "    202              0.1006              0.6749        0.0057            0.0739            0.5871        0.0034        0.1113\n",
      "    203              0.0914              0.6691        \u001b[35m0.0044\u001b[0m            0.0730            0.6588        0.0038        0.1144\n",
      "    204              0.1063              0.7056        0.0061            0.0613            0.6244        0.0029        0.1172\n",
      "    205              0.1001              0.6905        0.0053            0.1160            0.6217        0.0064        0.1145\n",
      "    206              \u001b[36m0.0867\u001b[0m              0.6790        0.0048            0.0867            0.6198        0.0046        0.1112\n",
      "    207              0.0901              \u001b[32m0.6530\u001b[0m        0.0045            0.0684            0.6516        0.0034        0.1127\n",
      "    208              0.1071              0.6855        0.0053            0.0619            0.6230        0.0028        0.1139\n",
      "    209              0.0949              0.7055        0.0054            0.0601            0.6326        0.0028        0.1183\n",
      "    210              0.0930              0.6739        0.0048            \u001b[31m0.0476\u001b[0m            0.5944        0.0024     +  0.1144\n",
      "    211              0.1107              0.7638        0.0094            0.0989            0.5997        0.0051        0.1127\n",
      "    212              0.0996              0.6952        0.0054            0.0684            0.6032        0.0026        0.1115\n",
      "    213              0.1089              0.7098        0.0059            0.0859            0.6347        0.0037        0.1163\n",
      "    214              0.1108              0.6835        0.0058            0.0670            \u001b[94m0.5794\u001b[0m        0.0027        0.1153\n",
      "    215              0.0959              0.6703        0.0049            0.0658            0.6249        0.0027        0.1120\n",
      "    216              0.0943              0.6633        0.0045            0.0638            0.6176        0.0028        0.1112\n",
      "    217              0.0922              0.6792        0.0060            0.0662            0.5979        0.0027        0.1152\n",
      "    218              0.1105              0.6933        0.0064            0.0743            0.6047        0.0029        0.1175\n",
      "    219              0.1038              0.6640        0.0054            0.0691            0.6291        0.0032        0.1158\n",
      "    220              0.0918              0.6634        0.0050            0.0838            0.6475        0.0035        0.1110\n",
      "    221              0.0935              0.6546        0.0051            0.0584            0.6103        0.0026        0.1114\n",
      "    222              0.1037              \u001b[32m0.6495\u001b[0m        0.0049            0.0853            \u001b[94m0.5754\u001b[0m        0.0034        0.1139\n",
      "    223              0.1003              0.6682        0.0052            0.0622            0.6078        0.0028        0.1178\n",
      "    224              0.0984              \u001b[32m0.6375\u001b[0m        0.0048            0.0793            \u001b[94m0.5725\u001b[0m        0.0032        0.1140\n",
      "    225              0.1043              0.6708        0.0052            0.0757            \u001b[94m0.5584\u001b[0m        0.0030        0.1104\n",
      "    226              \u001b[36m0.0861\u001b[0m              0.6559        \u001b[35m0.0043\u001b[0m            0.0745            0.6096        0.0031        0.1124\n",
      "    227              0.1047              0.7060        0.0059            0.0817            0.6632        0.0048        0.1173\n",
      "    228              0.1050              0.6624        0.0053            0.0674            0.6435        0.0028        0.1182\n",
      "    229              0.1075              0.6899        0.0059            0.0969            0.6491        0.0053        0.1135\n",
      "    230              0.0978              0.6430        0.0045            0.0543            0.6062        0.0025        0.1111\n",
      "    231              0.1010              0.6636        0.0051            0.0712            0.6246        0.0032        0.1138\n",
      "    232              0.0948              0.6821        0.0052            0.0986            0.7049        0.0049        0.1186\n",
      "    233              0.0932              \u001b[32m0.6280\u001b[0m        \u001b[35m0.0042\u001b[0m            0.0546            0.5880        0.0024        0.1158\n",
      "    234              \u001b[36m0.0822\u001b[0m              \u001b[32m0.6184\u001b[0m        \u001b[35m0.0037\u001b[0m            0.0579            0.5897        0.0025        0.1107\n",
      "    235              0.0958              0.6533        0.0048            0.0955            0.6659        0.0057        0.1138\n",
      "    236              0.1158              0.6810        0.0064            0.0746            0.5933        0.0033        0.1136\n",
      "    237              0.1044              0.6693        0.0059            0.0843            0.6335        0.0054        0.1187\n",
      "    238              0.1005              0.6789        0.0054            0.0596            0.5960        0.0025        0.1122\n",
      "    239              0.1031              \u001b[32m0.5999\u001b[0m        0.0044            0.0974            0.6850        0.0051        0.1117\n"
     ]
    },
    {
     "name": "stdout",
     "output_type": "stream",
     "text": [
      "    240              0.1094              0.6758        0.0061            0.0772            0.5720        0.0029        0.1139\n",
      "    241              0.0979              0.6766        0.0059            0.0673            0.7049        0.0039        0.1146\n",
      "    242              0.1020              0.6322        0.0049            0.0691            0.6103        0.0031        0.1141\n",
      "    243              0.0934              0.6645        0.0053            0.0567            0.6065        0.0024        0.1134\n",
      "    244              0.0902              0.7035        0.0048            0.0584            0.5881        0.0026        0.1136\n",
      "    245              0.1014              0.6292        0.0046            0.0595            0.5771        0.0023        0.1123\n",
      "    246              0.1099              0.6907        0.0061            0.0776            0.5911        0.0040        0.1141\n",
      "    247              0.0897              0.6421        0.0043            0.0761            0.5590        0.0028        0.1148\n",
      "    248              0.0966              \u001b[32m0.5980\u001b[0m        0.0044            0.0588            \u001b[94m0.5407\u001b[0m        \u001b[36m0.0021\u001b[0m        0.1129\n",
      "    249              0.0922              0.6366        0.0044            0.0484            0.6127        0.0022        0.1124\n",
      "    250              0.1105              0.6386        0.0058            0.0794            0.6046        0.0035        0.1134\n",
      "    251              0.1013              0.6452        0.0050            0.0628            0.5850        0.0029        0.1160\n",
      "    252              0.0997              0.6511        0.0054            0.0901            0.5860        0.0040        0.1142\n",
      "    253              \u001b[36m0.0809\u001b[0m              0.6167        \u001b[35m0.0037\u001b[0m            0.0765            0.5593        0.0029        0.1127\n",
      "    254              0.0895              \u001b[32m0.5858\u001b[0m        0.0042            0.0812            0.5940        0.0036        0.1124\n",
      "    255              0.1157              0.6449        0.0074            0.0711            0.5626        0.0028        0.1127\n",
      "    256              0.1229              0.6411        0.0060            0.0837            0.5948        0.0037        0.1179\n",
      "    257              0.1005              0.6161        0.0048            0.0818            0.6417        0.0046        0.1147\n",
      "    258              0.0896              0.6342        0.0046            0.1066            0.6687        0.0068        0.1120\n",
      "    259              0.0982              0.6270        0.0048            0.0844            \u001b[94m0.5290\u001b[0m        0.0033        0.1118\n",
      "    260              0.1082              0.6434        0.0057            0.1101            0.5458        0.0055        0.1166\n",
      "    261              0.1034              0.6066        0.0047            0.0735            0.6323        0.0032        0.1172\n",
      "    262              0.1061              0.6579        0.0072            0.0869            0.6103        0.0036        0.1124\n",
      "    263              0.1132              0.6457        0.0072            0.1147            0.6773        0.0049        0.1123\n",
      "    264              0.0967              0.6480        0.0051            0.0492            0.5883        0.0021        0.1138\n",
      "    265              0.1023              0.6354        0.0048            0.0788            0.6313        0.0046        0.1197\n",
      "    266              0.1065              0.6631        0.0055            0.0671            0.5710        0.0024        0.1139\n",
      "    267              0.0914              0.6475        0.0048            0.0535            0.6233        0.0023        0.1114\n",
      "    268              0.0898              0.5952        0.0045            0.0610            0.5582        0.0024        0.1116\n",
      "    269              0.0875              0.5993        0.0040            0.0586            0.5865        0.0024        0.1152\n",
      "    270              0.1014              0.6267        0.0053            0.0606            0.5918        0.0026        0.1131\n",
      "    271              0.1019              0.6255        0.0048            0.0663            0.6019        0.0028        0.1129\n",
      "    272              0.0922              0.6273        0.0045            0.0743            0.7432        0.0042        0.1105\n",
      "    273              0.0973              0.6208        0.0047            0.0827            \u001b[94m0.5182\u001b[0m        0.0030        0.1112\n",
      "    274              0.0832              \u001b[32m0.5817\u001b[0m        \u001b[35m0.0036\u001b[0m            0.0757            0.5823        0.0027        0.1144\n",
      "    275              0.0885              \u001b[32m0.5750\u001b[0m        0.0042            0.0618            0.5462        0.0027        0.1124\n",
      "    276              0.0899              \u001b[32m0.5720\u001b[0m        0.0037            0.0570            0.5823        0.0024        0.1094\n",
      "    277              0.0847              0.6056        0.0039            0.0639            0.5846        0.0025        0.1101\n",
      "    278              0.0953              0.5956        0.0044            0.0726            0.5747        0.0033        0.1124\n",
      "    279              0.0884              0.6072        0.0041            0.0540            0.5506        0.0022        0.1123\n",
      "    280              0.1011              0.6103        0.0047            0.0702            0.5372        0.0025        0.1117\n",
      "    281              0.0922              0.5807        0.0041            0.0500            0.5539        \u001b[36m0.0018\u001b[0m        0.1108\n",
      "    282              0.0915              0.6165        0.0044            0.0669            0.5355        0.0031        0.1123\n",
      "    283              0.0899              0.6001        0.0040            0.1003            0.5394        0.0047        0.1121\n",
      "    284              0.0878              0.6007        0.0037            0.0841            0.5375        0.0036        0.1097\n",
      "    285              0.0969              0.6028        0.0045            0.0958            0.6213        0.0040        0.1120\n",
      "    286              0.0944              0.5980        0.0045            0.0532            0.5786        0.0021        0.1120\n",
      "    287              0.0837              0.5790        \u001b[35m0.0035\u001b[0m            0.0653            0.5876        0.0028        0.1132\n",
      "    288              \u001b[36m0.0796\u001b[0m              \u001b[32m0.5651\u001b[0m        \u001b[35m0.0032\u001b[0m            0.0667            0.5836        0.0031        0.1118\n",
      "    289              0.0862              \u001b[32m0.5485\u001b[0m        0.0037            0.0565            0.5214        0.0020        0.1108\n",
      "    290              0.0880              0.5851        0.0039            0.0591            0.5245        0.0025        0.1120\n",
      "    291              0.0851              0.5617        0.0039            0.0666            0.5684        0.0026        0.1116\n",
      "    292              \u001b[36m0.0725\u001b[0m              0.5942        0.0041            0.0518            0.5987        0.0022        0.1117\n",
      "    293              0.0945              0.5762        0.0042            0.0674            \u001b[94m0.5138\u001b[0m        0.0023        0.1116\n",
      "    294              0.0993              0.5891        0.0048            0.0864            0.7017        0.0045        0.1124\n",
      "    295              0.1017              0.5992        0.0048            0.0979            0.6181        0.0053        0.1113\n",
      "    296              0.0873              0.6068        0.0041            0.0914            0.5162        0.0037        0.1120\n",
      "    297              0.0915              0.5867        0.0042            0.0977            0.6581        0.0054        0.1118\n",
      "    298              0.0969              0.6324        0.0050            0.0726            0.5671        0.0029        0.1135\n",
      "    299              0.0905              0.6094        0.0041            0.0813            0.6414        0.0034        0.1123\n",
      "    300              0.0955              0.6046        0.0048            0.0787            0.5984        0.0046        0.1120\n",
      "    301              0.1150              0.6217        0.0060            0.0756            0.6198        0.0031        0.1110\n",
      "    302              0.1090              0.6546        0.0064            0.0969            0.6175        0.0042        0.1118\n",
      "    303              0.1205              0.5983        0.0066            0.0585            0.6353        0.0031        0.1110\n"
     ]
    },
    {
     "name": "stdout",
     "output_type": "stream",
     "text": [
      "    304              0.1089              0.6177        0.0055            0.1028            0.6216        0.0057        0.1134\n",
      "    305              0.1017              0.6301        0.0049            0.0829            0.6504        0.0036        0.1113\n",
      "    306              0.0930              0.5862        0.0047            0.0551            0.6286        0.0026        0.1120\n",
      "    307              0.0907              0.5736        0.0040            0.0502            0.5517        0.0019        0.1104\n",
      "    308              0.0894              0.5892        0.0038            0.0721            0.6008        0.0032        0.1124\n",
      "    309              0.1038              0.6097        0.0049            \u001b[31m0.0471\u001b[0m            0.5815        0.0019     +  0.1129\n",
      "    310              0.0761              0.5628        \u001b[35m0.0031\u001b[0m            0.0753            0.6158        0.0033        0.1116\n",
      "    311              0.1077              0.6471        0.0058            0.0816            0.6479        0.0041        0.1112\n",
      "    312              0.0981              0.5969        0.0048            0.1003            0.5951        0.0050        0.1127\n",
      "    313              0.0971              0.5507        0.0042            0.0874            0.5873        0.0039        0.1120\n",
      "    314              0.0847              0.5814        0.0038            0.0751            0.5481        0.0030        0.1111\n",
      "    315              0.0984              0.6377        0.0052            0.0830            0.5347        0.0033        0.1129\n",
      "    316              0.0783              0.5913        0.0036            0.0585            0.5957        0.0025        0.1128\n",
      "    317              0.0818              0.5487        0.0033            0.0770            0.5429        0.0030        0.1137\n",
      "    318              0.0920              0.5953        0.0044            0.0838            0.5640        0.0044        0.1106\n",
      "    319              0.0854              0.5825        0.0039            0.0648            0.6193        0.0031        0.1114\n",
      "    320              0.0965              0.6823        0.0071            0.0766            0.5997        0.0032        0.1135\n",
      "    321              0.1042              0.6273        0.0052            0.1001            0.5556        0.0044        0.1149\n",
      "    322              0.1029              0.6150        0.0055            0.0860            0.6839        0.0040        0.1112\n",
      "    323              0.0957              0.5796        0.0049            0.0514            0.5708        0.0021        0.1106\n",
      "    324              0.0973              0.5968        0.0051            0.1026            \u001b[94m0.4981\u001b[0m        0.0039        0.1127\n",
      "    325              0.0850              0.6358        0.0046            0.0677            0.5283        0.0026        0.1141\n",
      "    326              0.0830              0.6029        0.0041            0.0574            0.6398        0.0027        0.1103\n",
      "    327              0.0930              0.5975        0.0044            0.0527            0.6321        0.0027        0.1098\n",
      "    328              0.0910              0.5890        0.0044            0.0867            0.5509        0.0037        0.1141\n",
      "    329              0.0860              0.5518        0.0035            0.0514            0.5850        0.0022        0.1136\n",
      "    330              0.0866              0.5817        0.0043            0.0643            0.5497        0.0024        0.1099\n",
      "    331              0.0862              0.5863        0.0040            0.0839            0.5788        0.0034        0.1102\n",
      "    332              0.0822              0.5698        0.0036            \u001b[31m0.0457\u001b[0m            0.5855        0.0021     +  0.1150\n",
      "    333              0.0906              0.5938        0.0043            0.0792            0.5902        0.0031        0.1112\n",
      "    334              0.0917              0.5881        0.0043            0.1184            0.6185        0.0063        0.1112\n",
      "    335              0.0980              0.5561        0.0045            0.1150            0.5337        0.0075        0.1129\n",
      "    336              0.0889              0.5704        0.0042            0.0551            0.5024        0.0021        0.1138\n",
      "    337              0.0917              0.5916        0.0040            0.0549            0.5268        0.0020        0.1109\n",
      "    338              0.0995              0.6055        0.0047            0.0592            0.5831        0.0025        0.1114\n",
      "    339              0.1015              0.5819        0.0047            0.0838            0.6266        0.0047        0.1132\n",
      "    340              0.0937              0.5675        0.0040            0.0729            0.5251        0.0029        0.1155\n",
      "    341              0.0885              \u001b[32m0.5420\u001b[0m        0.0037            0.1010            0.6290        0.0055        0.1102\n",
      "    342              0.0914              0.5878        0.0041            0.0913            0.5827        0.0041        0.1116\n",
      "    343              0.1007              0.5987        0.0051            0.0926            0.5664        0.0042        0.1115\n",
      "    344              0.1054              0.5928        0.0050            0.0931            0.5878        0.0064        0.1140\n",
      "    345              0.0901              0.5684        0.0040            0.0995            0.5257        0.0046        0.1103\n",
      "    346              0.0738              \u001b[32m0.5353\u001b[0m        \u001b[35m0.0029\u001b[0m            0.0542            0.5983        0.0024        0.1104\n",
      "    347              0.0807              0.5502        0.0032            0.0623            0.5258        0.0022        0.1123\n",
      "    348              0.0828              0.5357        0.0034            0.0587            0.5593        0.0023        0.1135\n",
      "    349              0.0813              \u001b[32m0.5336\u001b[0m        0.0032            0.0532            0.5556        0.0021        0.1104\n",
      "    350              0.1086              0.5911        0.0057            0.0914            0.6702        0.0060        0.1111\n",
      "    351              0.0805              0.5784        0.0034            0.0560            0.5498        0.0021        0.1123\n",
      "    352              0.0834              0.5342        0.0032            0.0953            0.5758        0.0048        0.1122\n",
      "    353              0.0813              0.5772        0.0036            0.0614            0.5408        0.0024        0.1112\n",
      "    354              0.0831              0.5874        0.0037            0.1043            0.5276        0.0054        0.1112\n",
      "    355              0.0842              0.5539        0.0034            0.0559            0.6043        0.0025        0.1111\n",
      "    356              \u001b[36m0.0713\u001b[0m              \u001b[32m0.5156\u001b[0m        0.0029            0.0596            0.5618        0.0024        0.1121\n",
      "    357              0.0869              0.5748        0.0042            0.1181            0.5527        0.0073        0.1113\n",
      "    358              0.1108              0.5973        0.0054            0.1002            0.6574        0.0085        0.1122\n",
      "    359              0.1088              0.5616        0.0048            0.0768            0.5413        0.0030        0.1106\n",
      "    360              0.0804              0.5294        0.0031            0.0728            \u001b[94m0.4880\u001b[0m        0.0025        0.1128\n",
      "    361              0.0804              0.5289        0.0034            0.0720            0.5470        0.0032        0.1115\n",
      "    362              0.0955              0.5343        0.0041            0.0890            0.5326        0.0034        0.1116\n",
      "    363              0.0900              0.5606        0.0037            0.0788            0.5801        0.0039        0.1103\n",
      "    364              0.0885              0.5345        0.0037            0.0933            0.5230        0.0037        0.1098\n",
      "    365              0.0924              0.6136        0.0048            0.0654            0.5120        0.0023        0.1126\n",
      "    366              0.0969              0.5851        0.0045            0.0797            0.5902        0.0030        0.1111\n",
      "    367              0.0900              0.5487        0.0037            0.0938            0.5298        0.0044        0.1109\n",
      "    368              0.0862              0.5587        0.0039            0.0800            0.5969        0.0030        0.1116\n"
     ]
    },
    {
     "name": "stdout",
     "output_type": "stream",
     "text": [
      "    369              0.0895              0.5710        0.0038            0.0538            0.4939        \u001b[36m0.0018\u001b[0m        0.1119\n",
      "    370              0.0887              0.5595        0.0039            0.0615            0.5578        0.0029        0.1101\n",
      "    371              0.0856              0.5488        0.0048            0.0499            0.5623        0.0020        0.1097\n",
      "    372              0.1100              0.6183        0.0058            0.0702            \u001b[94m0.4867\u001b[0m        0.0024        0.1110\n",
      "    373              0.1012              0.6159        0.0055            0.0788            0.5878        0.0038        0.1118\n",
      "    374              0.0835              0.5272        0.0034            0.0698            0.5883        0.0031        0.1091\n",
      "    375              0.0812              0.5456        0.0036            0.1042            0.5025        0.0049        0.1102\n",
      "    376              0.0904              0.6002        0.0042            0.0611            0.5231        0.0022        0.1131\n",
      "    377              0.0764              0.5308        0.0031            0.0577            0.5649        0.0022        0.1095\n",
      "    378              0.0794              0.5182        0.0030            0.0512            0.4993        \u001b[36m0.0017\u001b[0m        0.1114\n",
      "    379              0.0743              \u001b[32m0.5141\u001b[0m        \u001b[35m0.0028\u001b[0m            0.0735            0.5300        0.0027        0.1115\n",
      "    380              0.0852              0.5760        0.0046            0.0782            0.5651        0.0043        0.1106\n",
      "    381              0.1167              0.6065        0.0067            0.0907            0.5547        0.0038        0.1093\n",
      "    382              0.0965              0.5188        0.0040            0.0762            0.6759        0.0039        0.1097\n",
      "    383              0.0875              0.5761        0.0046            0.0852            0.5234        0.0035        0.1083\n",
      "    384              0.0953              0.5724        0.0046            0.0806            0.6170        0.0036        0.1137\n",
      "    385              0.0861              0.5245        0.0038            0.0650            0.5299        0.0027        0.1110\n",
      "    386              0.0814              0.5214        0.0032            0.0624            0.6431        0.0030        0.1097\n",
      "    387              0.0771              0.5508        0.0033            0.0535            0.5297        0.0020        0.1091\n",
      "    388              0.0849              0.5443        0.0035            0.0488            0.5495        0.0019        0.1219\n",
      "    389              0.0807              0.5347        0.0034            0.0487            0.5202        0.0019        0.1204\n",
      "    390              0.0786              0.5562        0.0037            0.0669            0.5487        0.0027        0.1115\n",
      "    391              0.0881              0.5501        0.0039            0.0709            0.5571        0.0031        0.1138\n",
      "    392              0.0813              0.5382        0.0034            0.0485            0.5421        0.0020        0.1217\n",
      "    393              0.0907              0.5429        0.0037            0.0650            0.5190        0.0027        0.1208\n",
      "    394              0.0776              0.5542        0.0037            0.0508            0.5186        0.0020        0.1109\n",
      "    395              0.0891              0.5327        0.0035            0.0551            0.5575        0.0027        0.1124\n",
      "    396              0.0989              0.5383        0.0044            0.0635            0.5398        0.0024        0.1161\n",
      "    397              0.0926              0.5398        0.0043            0.0701            0.5783        0.0031        0.1202\n",
      "    398              0.0997              0.5366        0.0041            0.0804            0.5468        0.0032        0.1120\n",
      "    399              0.0764              0.5451        0.0031            0.0661            0.5477        0.0032        0.1105\n",
      "    400              0.0802              0.5195        0.0032            0.0653            \u001b[94m0.4792\u001b[0m        0.0022        0.1179\n",
      "    401              0.0808              \u001b[32m0.5054\u001b[0m        0.0031            0.0637            0.5695        0.0028        0.1195\n",
      "    402              0.0770              0.5128        0.0031            0.0601            0.5279        0.0024        0.1102\n",
      "    403              0.0754              0.5456        0.0032            0.0603            0.5773        0.0024        0.1117\n",
      "    404              0.0727              0.5485        0.0035            0.0586            0.5651        0.0022        0.1213\n",
      "    405              0.0866              0.5458        0.0037            0.0667            0.5704        0.0033        0.1159\n",
      "    406              0.0814              0.5602        0.0036            0.0897            0.5457        0.0055        0.1114\n",
      "    407              0.0853              0.5238        0.0037            0.1211            0.4915        0.0058        0.1137\n",
      "    408              0.0784              0.5246        0.0036            0.0617            0.5317        0.0024        0.1200\n",
      "    409              0.0894              0.5516        0.0040            0.0570            0.5010        0.0021        0.1152\n",
      "    410              0.0814              0.5233        0.0030            0.0500            0.5578        0.0019        0.1134\n",
      "    411              0.0844              0.5299        0.0036            0.1141            0.6018        0.0071        0.1119\n",
      "    412              0.0981              0.5570        0.0046            0.1160            0.7054        0.0087        0.1208\n",
      "    413              0.0836              0.5299        0.0037            0.0518            0.5043        0.0019        0.1148\n",
      "    414              0.0788              0.5182        0.0031            0.0748            0.6438        0.0037        0.1117\n",
      "    415              0.0861              0.5381        0.0036            0.0566            0.5299        0.0021        0.1156\n",
      "    416              0.0825              0.5477        0.0035            0.0565            0.4954        0.0024        0.1203\n",
      "    417              \u001b[36m0.0686\u001b[0m              \u001b[32m0.4956\u001b[0m        \u001b[35m0.0024\u001b[0m            0.0708            0.5324        0.0030        0.1105\n",
      "    418              0.1054              0.5839        0.0057            0.1136            0.6552        0.0085        0.1128\n",
      "    419              0.0815              0.5352        0.0033            0.0884            0.5410        0.0040        0.1161\n",
      "    420              0.0702              \u001b[32m0.4953\u001b[0m        0.0027            0.0768            0.5336        0.0035        0.1172\n",
      "    421              0.0760              0.5079        0.0028            0.0721            0.5659        0.0031        0.1113\n",
      "    422              0.0832              0.5078        0.0032            0.0598            \u001b[94m0.4645\u001b[0m        0.0019        0.1136\n",
      "    423              0.0820              0.5054        0.0031            0.0647            0.6288        0.0034        0.1146\n",
      "    424              0.0876              0.5259        0.0034            0.0495            0.5779        0.0027        0.1174\n",
      "    425              0.0697              0.5296        0.0027            0.0556            0.5634        0.0025        0.1126\n",
      "    426              0.0793              0.4997        0.0028            0.0579            0.5527        0.0028        0.1117\n",
      "    427              0.0832              0.5677        0.0041            0.0505            0.4908        0.0017        0.1178\n",
      "    428              0.0923              0.5623        0.0039            0.0702            0.6128        0.0030        0.1176\n",
      "    429              0.0884              0.5745        0.0049            0.0939            0.8633        0.0099        0.1105\n",
      "    430              0.0771              0.5304        0.0032            0.0870            0.5510        0.0035        0.1133\n",
      "    431              0.0862              0.5112        0.0035            0.0647            0.4854        0.0024        0.1207\n",
      "    432              0.0942              0.5401        0.0039            0.0509            0.7104        0.0039        0.1127\n",
      "    433              0.0854              0.5704        0.0040            0.0582            0.6113        0.0029        0.1115\n"
     ]
    },
    {
     "name": "stdout",
     "output_type": "stream",
     "text": [
      "    434              0.0836              0.5361        0.0034            0.0761            0.5969        0.0046        0.1181\n",
      "    435              0.0837              0.5243        0.0035            0.0655            0.5752        0.0028        0.1153\n",
      "    436              0.0852              0.5262        0.0038            0.0507            0.5224        0.0020        0.1123\n",
      "    437              0.0935              0.5422        0.0043            0.0642            0.5531        0.0028        0.1141\n",
      "    438              0.0920              0.5488        0.0043            0.0600            0.5028        0.0021        0.1146\n",
      "    439              0.0905              0.5192        0.0038            0.0998            0.5935        0.0061        0.1158\n",
      "    440              0.0799              \u001b[32m0.4857\u001b[0m        0.0028            \u001b[31m0.0413\u001b[0m            0.5292        0.0017     +  0.1143\n",
      "    441              0.0729              0.5237        0.0029            0.0468            0.5141        0.0018        0.1141\n",
      "    442              0.0686              0.4862        \u001b[35m0.0023\u001b[0m            0.0493            0.4947        0.0018        0.1180\n",
      "    443              0.0800              0.4988        0.0029            0.0577            \u001b[94m0.4596\u001b[0m        0.0020        0.1148\n",
      "    444              0.0885              0.4940        0.0033            0.0859            0.5289        0.0039        0.1127\n",
      "    445              0.1065              \u001b[32m0.4817\u001b[0m        0.0041            0.0533            0.5804        0.0023        0.1165\n",
      "    446              0.0931              0.5164        0.0037            0.0987            0.5219        0.0072        0.1191\n",
      "    447              0.1021              0.5498        0.0044            0.0693            0.5402        0.0025        0.1118\n",
      "    448              0.0769              0.5054        0.0028            0.0542            0.4717        \u001b[36m0.0017\u001b[0m        0.1156\n",
      "    449              0.0843              0.4935        0.0034            0.0799            0.4983        0.0035        0.1173\n",
      "    450              0.0689              0.5009        0.0026            0.0565            0.5232        0.0020        0.1145\n",
      "    451              0.0848              0.5075        0.0032            0.0662            0.5444        0.0024        0.1132\n",
      "    452              0.0932              0.5059        0.0038            0.0506            0.4629        0.0019        0.1160\n",
      "    453              0.0730              0.5231        0.0029            0.0505            0.4737        0.0017        0.1165\n",
      "    454              0.0693              \u001b[32m0.4783\u001b[0m        0.0025            0.0574            0.4748        0.0019        0.1141\n",
      "    455              0.0692              0.4858        0.0025            0.0491            0.5020        0.0020        0.1132\n",
      "    456              0.0898              0.5675        0.0039            0.0605            0.5560        0.0023        0.1152\n",
      "    457              \u001b[36m0.0678\u001b[0m              0.4950        0.0025            0.0500            0.5250        0.0022        0.1184\n",
      "    458              0.0755              0.4997        0.0031            0.0489            0.5604        0.0021        0.1133\n",
      "    459              0.0732              0.4872        0.0028            0.0608            0.4643        0.0021        0.1126\n",
      "    460              0.1041              0.5233        0.0053            0.1366            0.6953        0.0153        0.1158\n",
      "    461              0.0950              0.4982        0.0038            0.0684            0.4922        0.0026        0.1158\n",
      "    462              0.0790              0.4975        0.0031            0.0650            0.5775        0.0030        0.1114\n",
      "    463              0.0742              \u001b[32m0.4689\u001b[0m        0.0027            0.0676            0.5442        0.0028        0.1171\n",
      "    464              0.0790              0.4988        0.0029            0.0452            0.5348        0.0018        0.1171\n",
      "    465              0.0720              0.4936        0.0026            0.0614            0.5694        0.0025        0.1129\n",
      "    466              0.0735              0.5102        0.0030            \u001b[31m0.0393\u001b[0m            0.4956        \u001b[36m0.0015\u001b[0m     +  0.1131\n",
      "    467              0.0734              0.4876        0.0027            0.0531            0.5633        0.0026        0.1142\n",
      "    468              0.0824              0.5033        0.0029            0.0630            0.5065        0.0021        0.1133\n",
      "    469              0.0916              0.5112        0.0046            0.0668            0.5089        0.0023        0.1144\n",
      "    470              0.1052              0.5559        0.0054            0.1182            0.5586        0.0071        0.1138\n",
      "    471              0.0799              0.5309        0.0031            0.0560            0.5367        0.0022        0.1138\n",
      "    472              0.0813              0.5159        0.0035            0.0440            0.5173        0.0018        0.1146\n",
      "    473              0.0886              0.5317        0.0065            0.1148            0.5629        0.0095        0.1150\n",
      "    474              0.1358              0.5967        0.0087            0.1951            0.9122        0.0172        0.1123\n",
      "    475              0.1098              0.5668        0.0049            0.0832            0.4709        0.0033        0.1141\n",
      "    476              0.0919              0.5223        0.0036            0.1040            0.5220        0.0041        0.1148\n",
      "    477              0.0774              0.4885        0.0030            0.0554            0.5260        0.0020        0.1145\n",
      "    478              0.0801              0.5212        0.0035            0.0607            0.4924        0.0024        0.1140\n",
      "    479              0.0897              0.5358        0.0039            0.0607            0.5565        0.0026        0.1146\n",
      "    480              0.0804              0.5084        0.0033            0.0590            0.4878        0.0020        0.1133\n",
      "    481              0.0740              0.4930        0.0027            0.0482            0.5678        0.0020        0.1143\n",
      "    482              0.0760              0.5091        0.0030            0.0542            0.4706        0.0017        0.1143\n",
      "    483              0.0767              0.4790        0.0030            0.0638            0.5660        0.0028        0.1132\n",
      "    484              0.0688              0.4728        0.0025            0.0663            0.4993        0.0023        0.1164\n",
      "    485              0.0752              0.4738        0.0027            0.0790            0.6092        0.0045        0.1167\n",
      "    486              0.0875              0.4925        0.0034            0.1035            0.4860        0.0043        0.1136\n",
      "    487              0.1033              0.5010        0.0043            0.0843            0.5760        0.0046        0.1140\n",
      "    488              0.1100              0.5160        0.0047            0.1189            0.5313        0.0068        0.1153\n",
      "    489              0.0984              0.5225        0.0048            0.0735            0.5584        0.0034        0.1120\n",
      "    490              0.0831              0.5200        0.0035            0.0673            0.5338        0.0030        0.1137\n",
      "    491              0.0999              0.5336        0.0050            0.1533            0.4892        0.0108        0.1180\n",
      "    492              0.0917              0.5101        0.0042            0.1510            0.7210        0.0203        0.1148\n",
      "    493              0.1221              0.5774        0.0077            0.1526            0.4798        0.0086        0.1126\n",
      "    494              0.0912              0.5096        0.0039            0.0679            0.4874        0.0023        0.1158\n",
      "    495              0.0752              0.4726        0.0029            0.0778            0.5703        0.0039        0.1181\n",
      "    496              0.0833              0.5168        0.0033            0.0651            0.5054        0.0024        0.1109\n",
      "    497              0.0821              0.4731        0.0032            0.1108            0.6719        0.0093        0.1139\n",
      "    498              0.0777              0.4863        0.0029            0.0614            \u001b[94m0.4578\u001b[0m        0.0017        0.1192\n"
     ]
    },
    {
     "name": "stdout",
     "output_type": "stream",
     "text": [
      "    499              0.0726              0.4981        0.0029            0.0511            0.5232        0.0019        0.1117\n",
      "    500              0.0742              0.5025        0.0027            0.0676            0.5580        0.0032        0.1135\n",
      "Training completed in 81.75729441642761s\n"
     ]
    },
    {
     "data": {
      "text/plain": [
       "81.75729441642761"
      ]
     },
     "execution_count": 11,
     "metadata": {},
     "output_type": "execute_result"
    }
   ],
   "source": [
    "torch.set_num_threads(1)\n",
    "trainer = AtomsTrainer(config)\n",
    "trainer.train()"
   ]
  },
  {
   "cell_type": "markdown",
   "id": "89478aaf",
   "metadata": {},
   "source": [
    "### Use the neural network as an ase calculator to make predictions"
   ]
  },
  {
   "cell_type": "code",
   "execution_count": 12,
   "id": "03f44cdc",
   "metadata": {},
   "outputs": [
    {
     "name": "stdout",
     "output_type": "stream",
     "text": [
      "Energy MSE: 0.002619624668211535\n",
      "Energy MAE: 0.03989354546070956\n"
     ]
    },
    {
     "data": {
      "text/plain": [
       "-593.8114013671875"
      ]
     },
     "execution_count": 12,
     "metadata": {},
     "output_type": "execute_result"
    }
   ],
   "source": [
    "predictions = trainer.predict(training)\n",
    "\n",
    "# assess errors\n",
    "\n",
    "true_energies = np.array([image.get_potential_energy() for image in training])\n",
    "pred_energies = np.array(predictions[\"energy\"])\n",
    "\n",
    "print(\"Energy MSE:\", np.mean((true_energies - pred_energies) ** 2))\n",
    "print(\"Energy MAE:\", np.mean(np.abs(true_energies - pred_energies)))\n",
    "\n",
    "training[0].set_calculator(AMPtorch(trainer))\n",
    "training[0].get_potential_energy()"
   ]
  },
  {
   "cell_type": "markdown",
   "id": "d1ee0038",
   "metadata": {},
   "source": [
    "### Use the fitted model to predict the 1D PES for change in O-H bond length"
   ]
  },
  {
   "cell_type": "code",
   "execution_count": 13,
   "id": "31eae4fa",
   "metadata": {},
   "outputs": [],
   "source": [
    "# set up images with one changing bond length\n",
    "distances = np.linspace(0.4, 2.0, 100)\n",
    "images = []\n",
    "for dist in distances:\n",
    "    image = molecule(\"H2O\", vacuum=10.0)\n",
    "    image.set_cell([10, 10, 10])\n",
    "    image.set_pbc([1, 1, 1])\n",
    "\n",
    "    # change bond length\n",
    "    image.set_distance(0, 2, dist)\n",
    "    image.set_angle(1, 0, 2, 104.210)\n",
    "    images.append(image)\n",
    "\n",
    "predictions = trainer.predict(images)"
   ]
  },
  {
   "cell_type": "code",
   "execution_count": 14,
   "id": "a6775744",
   "metadata": {},
   "outputs": [],
   "source": [
    "# get training point\n",
    "\n",
    "training_angle100 = [_ for _ in training if np.isclose(_.get_angle(1, 0, 2), 104.210, atol=1e-3)]\n",
    "\n",
    "distances_training = [_.get_distance(0, 2) for _ in training_angle100]\n",
    "energies_training = [_.get_potential_energy() for _ in training_angle100]\n"
   ]
  },
  {
   "cell_type": "code",
   "execution_count": 15,
   "id": "651053cd",
   "metadata": {},
   "outputs": [
    {
     "data": {
      "text/plain": [
       "<matplotlib.legend.Legend at 0x2aaaf78d32e8>"
      ]
     },
     "execution_count": 15,
     "metadata": {},
     "output_type": "execute_result"
    },
    {
     "data": {
      "image/png": "[encoded data removed]",
      "text/plain": [
       "<Figure size 432x288 with 1 Axes>"
      ]
     },
     "metadata": {
      "needs_background": "light"
     },
     "output_type": "display_data"
    }
   ],
   "source": [
    "plt.scatter(distances, predictions[\"energy\"], label=\"prediction\")\n",
    "plt.scatter(distances_training, energies_training, label=\"training\")\n",
    "plt.xlabel(\"O-H bond length [A]\")\n",
    "plt.ylabel(\"potential energy [eV]\")\n",
    "plt.legend()"
   ]
  }
 ],
 "metadata": {
  "kernelspec": {
   "display_name": "amptorch_MCSH",
   "language": "python",
   "name": "amptorch_mcsh"
  },
  "language_info": {
   "codemirror_mode": {
    "name": "ipython",
    "version": 3
   },
   "file_extension": ".py",
   "mimetype": "text/x-python",
   "name": "python",
   "nbconvert_exporter": "python",
   "pygments_lexer": "ipython3",
   "version": "3.6.13"
  }
 },
 "nbformat": 4,
 "nbformat_minor": 5
}
